{
 "cells": [
  {
   "cell_type": "markdown",
   "id": "bb9da5bd",
   "metadata": {},
   "source": [
    "## Importing all important libraries "
   ]
  },
  {
   "cell_type": "code",
   "execution_count": 1,
   "id": "9cfa538e",
   "metadata": {},
   "outputs": [],
   "source": [
    "import numpy as np\n",
    "import pandas as pd\n",
    "import seaborn as sns\n",
    "import statsmodels.api as sn\n",
    "from sklearn.linear_model import LinearRegression\n",
    "from sklearn.model_selection import train_test_split\n",
    "from sklearn import tree\n",
    "import pydotplus\n",
    "from IPython.display import Image\n",
    "from sklearn.metrics import mean_squared_error, r2_score\n",
    "from sklearn.ensemble import RandomForestRegressor\n",
    "from sklearn.ensemble import GradientBoostingRegressor\n",
    "from xgboost import XGBRegressor\n",
    "from sklearn.preprocessing import StandardScaler\n",
    "from sklearn.linear_model import Ridge\n",
    "from sklearn.linear_model import Lasso\n",
    "import matplotlib.pyplot as plt\n",
    "from sklearn import preprocessing\n",
    "from sklearn.model_selection import validation_curve\n",
    "from sklearn.model_selection import GridSearchCV"
   ]
  },
  {
   "cell_type": "markdown",
   "id": "84d009a3",
   "metadata": {},
   "source": [
    "## Loading the Dataset "
   ]
  },
  {
   "cell_type": "code",
   "execution_count": 2,
   "id": "80c3910a",
   "metadata": {},
   "outputs": [],
   "source": [
    "df=pd.read_csv(\"ML case Study(course project dataset).csv\" , header=0)\n",
    "df_college=pd.read_csv(\"Colleges.csv\" , header=0)\n",
    "df_cities=pd.read_csv(\"cities.csv\" , header=0)"
   ]
  },
  {
   "cell_type": "markdown",
   "id": "3ac32208",
   "metadata": {},
   "source": [
    "## View few rows "
   ]
  },
  {
   "cell_type": "code",
   "execution_count": 3,
   "id": "cdc246be",
   "metadata": {},
   "outputs": [
    {
     "data": {
      "text/html": [
       "<div>\n",
       "<style scoped>\n",
       "    .dataframe tbody tr th:only-of-type {\n",
       "        vertical-align: middle;\n",
       "    }\n",
       "\n",
       "    .dataframe tbody tr th {\n",
       "        vertical-align: top;\n",
       "    }\n",
       "\n",
       "    .dataframe thead th {\n",
       "        text-align: right;\n",
       "    }\n",
       "</style>\n",
       "<table border=\"1\" class=\"dataframe\">\n",
       "  <thead>\n",
       "    <tr style=\"text-align: right;\">\n",
       "      <th></th>\n",
       "      <th>College</th>\n",
       "      <th>City</th>\n",
       "      <th>Role</th>\n",
       "      <th>Previous CTC</th>\n",
       "      <th>Previous job change</th>\n",
       "      <th>Graduation Marks</th>\n",
       "      <th>EXP (Month)</th>\n",
       "      <th>CTC</th>\n",
       "    </tr>\n",
       "  </thead>\n",
       "  <tbody>\n",
       "    <tr>\n",
       "      <th>0</th>\n",
       "      <td>SVNIT Surat</td>\n",
       "      <td>Asansol</td>\n",
       "      <td>Manager</td>\n",
       "      <td>55523</td>\n",
       "      <td>3</td>\n",
       "      <td>66</td>\n",
       "      <td>19</td>\n",
       "      <td>71406.58</td>\n",
       "    </tr>\n",
       "    <tr>\n",
       "      <th>1</th>\n",
       "      <td>NIT Bhopal</td>\n",
       "      <td>Ajmer</td>\n",
       "      <td>Executive</td>\n",
       "      <td>57081</td>\n",
       "      <td>1</td>\n",
       "      <td>84</td>\n",
       "      <td>18</td>\n",
       "      <td>68005.87</td>\n",
       "    </tr>\n",
       "    <tr>\n",
       "      <th>2</th>\n",
       "      <td>IEM, Kolkata</td>\n",
       "      <td>Rajpur Sonarpur</td>\n",
       "      <td>Executive</td>\n",
       "      <td>60347</td>\n",
       "      <td>2</td>\n",
       "      <td>52</td>\n",
       "      <td>28</td>\n",
       "      <td>76764.02</td>\n",
       "    </tr>\n",
       "    <tr>\n",
       "      <th>3</th>\n",
       "      <td>KIIT, Bhubaneswar</td>\n",
       "      <td>Ajmer</td>\n",
       "      <td>Executive</td>\n",
       "      <td>49010</td>\n",
       "      <td>2</td>\n",
       "      <td>81</td>\n",
       "      <td>33</td>\n",
       "      <td>82092.39</td>\n",
       "    </tr>\n",
       "    <tr>\n",
       "      <th>4</th>\n",
       "      <td>DTU</td>\n",
       "      <td>Durgapur</td>\n",
       "      <td>Executive</td>\n",
       "      <td>57879</td>\n",
       "      <td>4</td>\n",
       "      <td>74</td>\n",
       "      <td>32</td>\n",
       "      <td>73878.10</td>\n",
       "    </tr>\n",
       "  </tbody>\n",
       "</table>\n",
       "</div>"
      ],
      "text/plain": [
       "             College             City       Role  Previous CTC  \\\n",
       "0        SVNIT Surat          Asansol    Manager         55523   \n",
       "1         NIT Bhopal            Ajmer  Executive         57081   \n",
       "2       IEM, Kolkata  Rajpur Sonarpur  Executive         60347   \n",
       "3  KIIT, Bhubaneswar            Ajmer  Executive         49010   \n",
       "4                DTU         Durgapur  Executive         57879   \n",
       "\n",
       "   Previous job change  Graduation Marks  EXP (Month)       CTC  \n",
       "0                    3                66           19  71406.58  \n",
       "1                    1                84           18  68005.87  \n",
       "2                    2                52           28  76764.02  \n",
       "3                    2                81           33  82092.39  \n",
       "4                    4                74           32  73878.10  "
      ]
     },
     "execution_count": 3,
     "metadata": {},
     "output_type": "execute_result"
    }
   ],
   "source": [
    "df.head()"
   ]
  },
  {
   "cell_type": "code",
   "execution_count": 4,
   "id": "73bb60e8",
   "metadata": {},
   "outputs": [
    {
     "data": {
      "text/html": [
       "<div>\n",
       "<style scoped>\n",
       "    .dataframe tbody tr th:only-of-type {\n",
       "        vertical-align: middle;\n",
       "    }\n",
       "\n",
       "    .dataframe tbody tr th {\n",
       "        vertical-align: top;\n",
       "    }\n",
       "\n",
       "    .dataframe thead th {\n",
       "        text-align: right;\n",
       "    }\n",
       "</style>\n",
       "<table border=\"1\" class=\"dataframe\">\n",
       "  <thead>\n",
       "    <tr style=\"text-align: right;\">\n",
       "      <th></th>\n",
       "      <th>Tier 1</th>\n",
       "      <th>Tier 2</th>\n",
       "      <th>Tier 3</th>\n",
       "    </tr>\n",
       "  </thead>\n",
       "  <tbody>\n",
       "    <tr>\n",
       "      <th>0</th>\n",
       "      <td>IIT Bombay</td>\n",
       "      <td>IIIT Bangalore</td>\n",
       "      <td>Ramaiah Institute of Technology, Bengaluru</td>\n",
       "    </tr>\n",
       "    <tr>\n",
       "      <th>1</th>\n",
       "      <td>IIT Delhi</td>\n",
       "      <td>IIIT Delhi</td>\n",
       "      <td>TIET/Thapar University</td>\n",
       "    </tr>\n",
       "    <tr>\n",
       "      <th>2</th>\n",
       "      <td>IIT Kharagpur</td>\n",
       "      <td>IGDTUW</td>\n",
       "      <td>Manipal Main Campus</td>\n",
       "    </tr>\n",
       "    <tr>\n",
       "      <th>3</th>\n",
       "      <td>IIT Madras</td>\n",
       "      <td>NIT Calicut</td>\n",
       "      <td>VIT Vellore</td>\n",
       "    </tr>\n",
       "    <tr>\n",
       "      <th>4</th>\n",
       "      <td>IIT Kanpur</td>\n",
       "      <td>IIITM Gwalior</td>\n",
       "      <td>SRM Main Campus</td>\n",
       "    </tr>\n",
       "    <tr>\n",
       "      <th>5</th>\n",
       "      <td>IIT Roorkee</td>\n",
       "      <td>IIIT Lucknow</td>\n",
       "      <td>KIIT, Bhubaneswar</td>\n",
       "    </tr>\n",
       "    <tr>\n",
       "      <th>6</th>\n",
       "      <td>IIT Guwahati</td>\n",
       "      <td>MNNIT Allahabad</td>\n",
       "      <td>Amity University</td>\n",
       "    </tr>\n",
       "    <tr>\n",
       "      <th>7</th>\n",
       "      <td>IIIT Hyderabad</td>\n",
       "      <td>Punjab Engineering College</td>\n",
       "      <td>BMS College, Bangalore</td>\n",
       "    </tr>\n",
       "    <tr>\n",
       "      <th>8</th>\n",
       "      <td>BITS Pilani (Pilani Campus)</td>\n",
       "      <td>DAIICT</td>\n",
       "      <td>PES University, Bangalore</td>\n",
       "    </tr>\n",
       "    <tr>\n",
       "      <th>9</th>\n",
       "      <td>IIT Indore</td>\n",
       "      <td>MNIT Jaipur</td>\n",
       "      <td>USIT, Delhi</td>\n",
       "    </tr>\n",
       "    <tr>\n",
       "      <th>10</th>\n",
       "      <td>IIT Ropar</td>\n",
       "      <td>NIT Durgapur</td>\n",
       "      <td>MAIT, Delhi</td>\n",
       "    </tr>\n",
       "    <tr>\n",
       "      <th>11</th>\n",
       "      <td>IIT BHU (Varanasi)</td>\n",
       "      <td>VNIT Nagpur</td>\n",
       "      <td>MSIT, Delhi</td>\n",
       "    </tr>\n",
       "    <tr>\n",
       "      <th>12</th>\n",
       "      <td>IIT ISM Dhanbad</td>\n",
       "      <td>LNMIIT</td>\n",
       "      <td>Dayanand College of Engineering, Bangalore</td>\n",
       "    </tr>\n",
       "    <tr>\n",
       "      <th>13</th>\n",
       "      <td>DTU</td>\n",
       "      <td>BIT Mesra</td>\n",
       "      <td>Heritage Institute of Technology, Kolkata</td>\n",
       "    </tr>\n",
       "    <tr>\n",
       "      <th>14</th>\n",
       "      <td>NSUT Delhi (NSIT)</td>\n",
       "      <td>SVNIT Surat</td>\n",
       "      <td>IEM, Kolkata</td>\n",
       "    </tr>\n",
       "    <tr>\n",
       "      <th>15</th>\n",
       "      <td>NIT Tiruchipally (Trichy)</td>\n",
       "      <td>NIT Jalandhar</td>\n",
       "      <td>Techno India, Kolkata</td>\n",
       "    </tr>\n",
       "    <tr>\n",
       "      <th>16</th>\n",
       "      <td>NIT Warangal</td>\n",
       "      <td>NIT Jamshedpur</td>\n",
       "      <td>Jaypee, Noida</td>\n",
       "    </tr>\n",
       "    <tr>\n",
       "      <th>17</th>\n",
       "      <td>NIT Surathkal (Karnataka)</td>\n",
       "      <td>NIT Kurukshetra</td>\n",
       "      <td>Amrita University, Coimbatore</td>\n",
       "    </tr>\n",
       "    <tr>\n",
       "      <th>18</th>\n",
       "      <td>Jadavpur University</td>\n",
       "      <td>NIT Patna</td>\n",
       "      <td>Cummins College of Engineering for Women, Pune</td>\n",
       "    </tr>\n",
       "    <tr>\n",
       "      <th>19</th>\n",
       "      <td>BITS Pilani (Hyderabad Campus)</td>\n",
       "      <td>NIT Raipur</td>\n",
       "      <td>NaN</td>\n",
       "    </tr>\n",
       "    <tr>\n",
       "      <th>20</th>\n",
       "      <td>BITS Pilani (Goa Campus)</td>\n",
       "      <td>NIT Bhopal</td>\n",
       "      <td>NaN</td>\n",
       "    </tr>\n",
       "    <tr>\n",
       "      <th>21</th>\n",
       "      <td>IIIT Allahabad</td>\n",
       "      <td>NIT Rourkela</td>\n",
       "      <td>NaN</td>\n",
       "    </tr>\n",
       "    <tr>\n",
       "      <th>22</th>\n",
       "      <td>NaN</td>\n",
       "      <td>NIT Silchar</td>\n",
       "      <td>NaN</td>\n",
       "    </tr>\n",
       "    <tr>\n",
       "      <th>23</th>\n",
       "      <td>NaN</td>\n",
       "      <td>NIT Sikkim</td>\n",
       "      <td>NaN</td>\n",
       "    </tr>\n",
       "    <tr>\n",
       "      <th>24</th>\n",
       "      <td>NaN</td>\n",
       "      <td>IIIT Jabalpur</td>\n",
       "      <td>NaN</td>\n",
       "    </tr>\n",
       "    <tr>\n",
       "      <th>25</th>\n",
       "      <td>NaN</td>\n",
       "      <td>Jalpaiguri Government Engineering College</td>\n",
       "      <td>NaN</td>\n",
       "    </tr>\n",
       "    <tr>\n",
       "      <th>26</th>\n",
       "      <td>NaN</td>\n",
       "      <td>IIEST/BESU Shibpur</td>\n",
       "      <td>NaN</td>\n",
       "    </tr>\n",
       "    <tr>\n",
       "      <th>27</th>\n",
       "      <td>NaN</td>\n",
       "      <td>R.V. College of Engineering</td>\n",
       "      <td>NaN</td>\n",
       "    </tr>\n",
       "  </tbody>\n",
       "</table>\n",
       "</div>"
      ],
      "text/plain": [
       "                            Tier 1                                     Tier 2  \\\n",
       "0                       IIT Bombay                             IIIT Bangalore   \n",
       "1                        IIT Delhi                                 IIIT Delhi   \n",
       "2                    IIT Kharagpur                                     IGDTUW   \n",
       "3                       IIT Madras                                NIT Calicut   \n",
       "4                       IIT Kanpur                              IIITM Gwalior   \n",
       "5                      IIT Roorkee                               IIIT Lucknow   \n",
       "6                     IIT Guwahati                            MNNIT Allahabad   \n",
       "7                   IIIT Hyderabad                 Punjab Engineering College   \n",
       "8      BITS Pilani (Pilani Campus)                                     DAIICT   \n",
       "9                       IIT Indore                                MNIT Jaipur   \n",
       "10                       IIT Ropar                               NIT Durgapur   \n",
       "11              IIT BHU (Varanasi)                                VNIT Nagpur   \n",
       "12                 IIT ISM Dhanbad                                     LNMIIT   \n",
       "13                             DTU                                  BIT Mesra   \n",
       "14               NSUT Delhi (NSIT)                                SVNIT Surat   \n",
       "15       NIT Tiruchipally (Trichy)                              NIT Jalandhar   \n",
       "16                    NIT Warangal                             NIT Jamshedpur   \n",
       "17       NIT Surathkal (Karnataka)                            NIT Kurukshetra   \n",
       "18             Jadavpur University                                  NIT Patna   \n",
       "19  BITS Pilani (Hyderabad Campus)                                 NIT Raipur   \n",
       "20        BITS Pilani (Goa Campus)                                 NIT Bhopal   \n",
       "21                  IIIT Allahabad                               NIT Rourkela   \n",
       "22                             NaN                                NIT Silchar   \n",
       "23                             NaN                                 NIT Sikkim   \n",
       "24                             NaN                              IIIT Jabalpur   \n",
       "25                             NaN  Jalpaiguri Government Engineering College   \n",
       "26                             NaN                         IIEST/BESU Shibpur   \n",
       "27                             NaN                R.V. College of Engineering   \n",
       "\n",
       "                                            Tier 3  \n",
       "0       Ramaiah Institute of Technology, Bengaluru  \n",
       "1                           TIET/Thapar University  \n",
       "2                              Manipal Main Campus  \n",
       "3                                      VIT Vellore  \n",
       "4                                  SRM Main Campus  \n",
       "5                                KIIT, Bhubaneswar  \n",
       "6                                 Amity University  \n",
       "7                           BMS College, Bangalore  \n",
       "8                        PES University, Bangalore  \n",
       "9                                      USIT, Delhi  \n",
       "10                                     MAIT, Delhi  \n",
       "11                                     MSIT, Delhi  \n",
       "12      Dayanand College of Engineering, Bangalore  \n",
       "13       Heritage Institute of Technology, Kolkata  \n",
       "14                                    IEM, Kolkata  \n",
       "15                           Techno India, Kolkata  \n",
       "16                                   Jaypee, Noida  \n",
       "17                   Amrita University, Coimbatore  \n",
       "18  Cummins College of Engineering for Women, Pune  \n",
       "19                                             NaN  \n",
       "20                                             NaN  \n",
       "21                                             NaN  \n",
       "22                                             NaN  \n",
       "23                                             NaN  \n",
       "24                                             NaN  \n",
       "25                                             NaN  \n",
       "26                                             NaN  \n",
       "27                                             NaN  "
      ]
     },
     "execution_count": 4,
     "metadata": {},
     "output_type": "execute_result"
    }
   ],
   "source": [
    "df_college"
   ]
  },
  {
   "cell_type": "code",
   "execution_count": 5,
   "id": "59dff4a0",
   "metadata": {},
   "outputs": [
    {
     "data": {
      "text/html": [
       "<div>\n",
       "<style scoped>\n",
       "    .dataframe tbody tr th:only-of-type {\n",
       "        vertical-align: middle;\n",
       "    }\n",
       "\n",
       "    .dataframe tbody tr th {\n",
       "        vertical-align: top;\n",
       "    }\n",
       "\n",
       "    .dataframe thead th {\n",
       "        text-align: right;\n",
       "    }\n",
       "</style>\n",
       "<table border=\"1\" class=\"dataframe\">\n",
       "  <thead>\n",
       "    <tr style=\"text-align: right;\">\n",
       "      <th></th>\n",
       "      <th>Metrio City</th>\n",
       "      <th>non-metro cities</th>\n",
       "    </tr>\n",
       "  </thead>\n",
       "  <tbody>\n",
       "    <tr>\n",
       "      <th>0</th>\n",
       "      <td>Mumbai</td>\n",
       "      <td>Dehradun</td>\n",
       "    </tr>\n",
       "    <tr>\n",
       "      <th>1</th>\n",
       "      <td>Delhi</td>\n",
       "      <td>Durgapur</td>\n",
       "    </tr>\n",
       "    <tr>\n",
       "      <th>2</th>\n",
       "      <td>Kolkata</td>\n",
       "      <td>Asansol</td>\n",
       "    </tr>\n",
       "    <tr>\n",
       "      <th>3</th>\n",
       "      <td>Chennai</td>\n",
       "      <td>Rourkela</td>\n",
       "    </tr>\n",
       "    <tr>\n",
       "      <th>4</th>\n",
       "      <td>Bangalore</td>\n",
       "      <td>Kozhikode</td>\n",
       "    </tr>\n",
       "    <tr>\n",
       "      <th>5</th>\n",
       "      <td>Hyderabad</td>\n",
       "      <td>Rajpur Sonarpur</td>\n",
       "    </tr>\n",
       "    <tr>\n",
       "      <th>6</th>\n",
       "      <td>Ahmedabad</td>\n",
       "      <td>Kolhapur</td>\n",
       "    </tr>\n",
       "    <tr>\n",
       "      <th>7</th>\n",
       "      <td>Pune</td>\n",
       "      <td>Ajmer</td>\n",
       "    </tr>\n",
       "    <tr>\n",
       "      <th>8</th>\n",
       "      <td>Surat</td>\n",
       "      <td>NaN</td>\n",
       "    </tr>\n",
       "  </tbody>\n",
       "</table>\n",
       "</div>"
      ],
      "text/plain": [
       "  Metrio City non-metro cities\n",
       "0      Mumbai         Dehradun\n",
       "1       Delhi         Durgapur\n",
       "2     Kolkata          Asansol\n",
       "3     Chennai         Rourkela\n",
       "4   Bangalore        Kozhikode\n",
       "5   Hyderabad  Rajpur Sonarpur\n",
       "6   Ahmedabad         Kolhapur\n",
       "7        Pune            Ajmer\n",
       "8       Surat              NaN"
      ]
     },
     "execution_count": 5,
     "metadata": {},
     "output_type": "execute_result"
    }
   ],
   "source": [
    "df_cities"
   ]
  },
  {
   "cell_type": "markdown",
   "id": "428ca1c0",
   "metadata": {},
   "source": [
    "## STEP 1- DATA -PREPROCESSING"
   ]
  },
  {
   "cell_type": "markdown",
   "id": "a0e5a9d0",
   "metadata": {},
   "source": [
    "### Defining the TIERS in the Datatset into lists"
   ]
  },
  {
   "cell_type": "code",
   "execution_count": 6,
   "id": "b78c8c2f",
   "metadata": {},
   "outputs": [],
   "source": [
    "Tier1 = df_college[\"Tier 1\"].tolist()\n",
    "Tier2 = df_college[\"Tier 2\"].tolist()\n",
    "Tier3 = df_college[\"Tier 3\"].tolist()"
   ]
  },
  {
   "cell_type": "markdown",
   "id": "4410ef53",
   "metadata": {},
   "source": [
    "### View the TIERS"
   ]
  },
  {
   "cell_type": "code",
   "execution_count": 7,
   "id": "985e4db8",
   "metadata": {},
   "outputs": [
    {
     "data": {
      "text/plain": [
       "['IIT Bombay',\n",
       " 'IIT Delhi',\n",
       " 'IIT Kharagpur',\n",
       " 'IIT Madras',\n",
       " 'IIT Kanpur',\n",
       " 'IIT Roorkee',\n",
       " 'IIT Guwahati',\n",
       " 'IIIT Hyderabad',\n",
       " 'BITS Pilani (Pilani Campus)',\n",
       " 'IIT Indore',\n",
       " 'IIT Ropar',\n",
       " 'IIT BHU (Varanasi)',\n",
       " 'IIT ISM Dhanbad',\n",
       " 'DTU',\n",
       " 'NSUT Delhi (NSIT)',\n",
       " 'NIT Tiruchipally (Trichy)',\n",
       " 'NIT Warangal',\n",
       " 'NIT Surathkal (Karnataka)',\n",
       " 'Jadavpur University',\n",
       " 'BITS Pilani (Hyderabad Campus)',\n",
       " 'BITS Pilani (Goa Campus)',\n",
       " 'IIIT Allahabad',\n",
       " nan,\n",
       " nan,\n",
       " nan,\n",
       " nan,\n",
       " nan,\n",
       " nan]"
      ]
     },
     "execution_count": 7,
     "metadata": {},
     "output_type": "execute_result"
    }
   ],
   "source": [
    "Tier1"
   ]
  },
  {
   "cell_type": "markdown",
   "id": "6df0a100",
   "metadata": {},
   "source": [
    "## Categorize Colleges based on \"TIERS\" : change the college field into numerical data type with the help of the tier of that college\n"
   ]
  },
  {
   "cell_type": "code",
   "execution_count": 8,
   "id": "519f6b70",
   "metadata": {},
   "outputs": [],
   "source": [
    "for item in df.College:\n",
    "    if item in Tier1:\n",
    "        df[\"College\"].replace(item,1,inplace = True)\n",
    "    elif item in Tier2:\n",
    "        df[\"College\"].replace(item,2,inplace = True)\n",
    "    elif item in Tier3:\n",
    "        df[\"College\"].replace(item,3,inplace = True)"
   ]
  },
  {
   "cell_type": "code",
   "execution_count": 9,
   "id": "56869eb0",
   "metadata": {},
   "outputs": [
    {
     "data": {
      "text/html": [
       "<div>\n",
       "<style scoped>\n",
       "    .dataframe tbody tr th:only-of-type {\n",
       "        vertical-align: middle;\n",
       "    }\n",
       "\n",
       "    .dataframe tbody tr th {\n",
       "        vertical-align: top;\n",
       "    }\n",
       "\n",
       "    .dataframe thead th {\n",
       "        text-align: right;\n",
       "    }\n",
       "</style>\n",
       "<table border=\"1\" class=\"dataframe\">\n",
       "  <thead>\n",
       "    <tr style=\"text-align: right;\">\n",
       "      <th></th>\n",
       "      <th>College</th>\n",
       "      <th>City</th>\n",
       "      <th>Role</th>\n",
       "      <th>Previous CTC</th>\n",
       "      <th>Previous job change</th>\n",
       "      <th>Graduation Marks</th>\n",
       "      <th>EXP (Month)</th>\n",
       "      <th>CTC</th>\n",
       "    </tr>\n",
       "  </thead>\n",
       "  <tbody>\n",
       "    <tr>\n",
       "      <th>0</th>\n",
       "      <td>2</td>\n",
       "      <td>Asansol</td>\n",
       "      <td>Manager</td>\n",
       "      <td>55523</td>\n",
       "      <td>3</td>\n",
       "      <td>66</td>\n",
       "      <td>19</td>\n",
       "      <td>71406.58</td>\n",
       "    </tr>\n",
       "    <tr>\n",
       "      <th>1</th>\n",
       "      <td>2</td>\n",
       "      <td>Ajmer</td>\n",
       "      <td>Executive</td>\n",
       "      <td>57081</td>\n",
       "      <td>1</td>\n",
       "      <td>84</td>\n",
       "      <td>18</td>\n",
       "      <td>68005.87</td>\n",
       "    </tr>\n",
       "    <tr>\n",
       "      <th>2</th>\n",
       "      <td>3</td>\n",
       "      <td>Rajpur Sonarpur</td>\n",
       "      <td>Executive</td>\n",
       "      <td>60347</td>\n",
       "      <td>2</td>\n",
       "      <td>52</td>\n",
       "      <td>28</td>\n",
       "      <td>76764.02</td>\n",
       "    </tr>\n",
       "    <tr>\n",
       "      <th>3</th>\n",
       "      <td>3</td>\n",
       "      <td>Ajmer</td>\n",
       "      <td>Executive</td>\n",
       "      <td>49010</td>\n",
       "      <td>2</td>\n",
       "      <td>81</td>\n",
       "      <td>33</td>\n",
       "      <td>82092.39</td>\n",
       "    </tr>\n",
       "    <tr>\n",
       "      <th>4</th>\n",
       "      <td>1</td>\n",
       "      <td>Durgapur</td>\n",
       "      <td>Executive</td>\n",
       "      <td>57879</td>\n",
       "      <td>4</td>\n",
       "      <td>74</td>\n",
       "      <td>32</td>\n",
       "      <td>73878.10</td>\n",
       "    </tr>\n",
       "  </tbody>\n",
       "</table>\n",
       "</div>"
      ],
      "text/plain": [
       "   College             City       Role  Previous CTC  Previous job change  \\\n",
       "0        2          Asansol    Manager         55523                    3   \n",
       "1        2            Ajmer  Executive         57081                    1   \n",
       "2        3  Rajpur Sonarpur  Executive         60347                    2   \n",
       "3        3            Ajmer  Executive         49010                    2   \n",
       "4        1         Durgapur  Executive         57879                    4   \n",
       "\n",
       "   Graduation Marks  EXP (Month)       CTC  \n",
       "0                66           19  71406.58  \n",
       "1                84           18  68005.87  \n",
       "2                52           28  76764.02  \n",
       "3                81           33  82092.39  \n",
       "4                74           32  73878.10  "
      ]
     },
     "execution_count": 9,
     "metadata": {},
     "output_type": "execute_result"
    }
   ],
   "source": [
    "df.head()"
   ]
  },
  {
   "cell_type": "code",
   "execution_count": 10,
   "id": "6273879b",
   "metadata": {},
   "outputs": [
    {
     "data": {
      "text/plain": [
       "(1589, 8)"
      ]
     },
     "execution_count": 10,
     "metadata": {},
     "output_type": "execute_result"
    }
   ],
   "source": [
    "df.shape"
   ]
  },
  {
   "cell_type": "markdown",
   "id": "2b705fd2",
   "metadata": {},
   "source": [
    "## Categorize Cities :"
   ]
  },
  {
   "cell_type": "code",
   "execution_count": 11,
   "id": "f595a923",
   "metadata": {},
   "outputs": [],
   "source": [
    "Metro = df_cities[\"Metrio City\"].tolist()\n",
    "Non_Metro = df_cities[\"non-metro cities\"].tolist()"
   ]
  },
  {
   "cell_type": "code",
   "execution_count": 12,
   "id": "2323e485",
   "metadata": {},
   "outputs": [],
   "source": [
    "for city in df.City:\n",
    "    if city in Metro:\n",
    "        df[\"City\"].replace(city,1,inplace = True)\n",
    "    elif city in Non_Metro:\n",
    "        df[\"City\"].replace(city,0,inplace = True)"
   ]
  },
  {
   "cell_type": "code",
   "execution_count": 13,
   "id": "59d74b27",
   "metadata": {},
   "outputs": [
    {
     "data": {
      "text/html": [
       "<div>\n",
       "<style scoped>\n",
       "    .dataframe tbody tr th:only-of-type {\n",
       "        vertical-align: middle;\n",
       "    }\n",
       "\n",
       "    .dataframe tbody tr th {\n",
       "        vertical-align: top;\n",
       "    }\n",
       "\n",
       "    .dataframe thead th {\n",
       "        text-align: right;\n",
       "    }\n",
       "</style>\n",
       "<table border=\"1\" class=\"dataframe\">\n",
       "  <thead>\n",
       "    <tr style=\"text-align: right;\">\n",
       "      <th></th>\n",
       "      <th>College</th>\n",
       "      <th>City</th>\n",
       "      <th>Role</th>\n",
       "      <th>Previous CTC</th>\n",
       "      <th>Previous job change</th>\n",
       "      <th>Graduation Marks</th>\n",
       "      <th>EXP (Month)</th>\n",
       "      <th>CTC</th>\n",
       "    </tr>\n",
       "  </thead>\n",
       "  <tbody>\n",
       "    <tr>\n",
       "      <th>0</th>\n",
       "      <td>2</td>\n",
       "      <td>0</td>\n",
       "      <td>Manager</td>\n",
       "      <td>55523</td>\n",
       "      <td>3</td>\n",
       "      <td>66</td>\n",
       "      <td>19</td>\n",
       "      <td>71406.58</td>\n",
       "    </tr>\n",
       "    <tr>\n",
       "      <th>1</th>\n",
       "      <td>2</td>\n",
       "      <td>0</td>\n",
       "      <td>Executive</td>\n",
       "      <td>57081</td>\n",
       "      <td>1</td>\n",
       "      <td>84</td>\n",
       "      <td>18</td>\n",
       "      <td>68005.87</td>\n",
       "    </tr>\n",
       "    <tr>\n",
       "      <th>2</th>\n",
       "      <td>3</td>\n",
       "      <td>0</td>\n",
       "      <td>Executive</td>\n",
       "      <td>60347</td>\n",
       "      <td>2</td>\n",
       "      <td>52</td>\n",
       "      <td>28</td>\n",
       "      <td>76764.02</td>\n",
       "    </tr>\n",
       "    <tr>\n",
       "      <th>3</th>\n",
       "      <td>3</td>\n",
       "      <td>0</td>\n",
       "      <td>Executive</td>\n",
       "      <td>49010</td>\n",
       "      <td>2</td>\n",
       "      <td>81</td>\n",
       "      <td>33</td>\n",
       "      <td>82092.39</td>\n",
       "    </tr>\n",
       "    <tr>\n",
       "      <th>4</th>\n",
       "      <td>1</td>\n",
       "      <td>0</td>\n",
       "      <td>Executive</td>\n",
       "      <td>57879</td>\n",
       "      <td>4</td>\n",
       "      <td>74</td>\n",
       "      <td>32</td>\n",
       "      <td>73878.10</td>\n",
       "    </tr>\n",
       "  </tbody>\n",
       "</table>\n",
       "</div>"
      ],
      "text/plain": [
       "   College  City       Role  Previous CTC  Previous job change  \\\n",
       "0        2     0    Manager         55523                    3   \n",
       "1        2     0  Executive         57081                    1   \n",
       "2        3     0  Executive         60347                    2   \n",
       "3        3     0  Executive         49010                    2   \n",
       "4        1     0  Executive         57879                    4   \n",
       "\n",
       "   Graduation Marks  EXP (Month)       CTC  \n",
       "0                66           19  71406.58  \n",
       "1                84           18  68005.87  \n",
       "2                52           28  76764.02  \n",
       "3                81           33  82092.39  \n",
       "4                74           32  73878.10  "
      ]
     },
     "execution_count": 13,
     "metadata": {},
     "output_type": "execute_result"
    }
   ],
   "source": [
    "df.head()"
   ]
  },
  {
   "cell_type": "markdown",
   "id": "19a89bb3",
   "metadata": {},
   "source": [
    "## dummy variables for “Role”."
   ]
  },
  {
   "cell_type": "code",
   "execution_count": 14,
   "id": "19a4c91f",
   "metadata": {},
   "outputs": [],
   "source": [
    "df=pd.get_dummies(df)"
   ]
  },
  {
   "cell_type": "code",
   "execution_count": 15,
   "id": "d257100b",
   "metadata": {},
   "outputs": [
    {
     "data": {
      "text/html": [
       "<div>\n",
       "<style scoped>\n",
       "    .dataframe tbody tr th:only-of-type {\n",
       "        vertical-align: middle;\n",
       "    }\n",
       "\n",
       "    .dataframe tbody tr th {\n",
       "        vertical-align: top;\n",
       "    }\n",
       "\n",
       "    .dataframe thead th {\n",
       "        text-align: right;\n",
       "    }\n",
       "</style>\n",
       "<table border=\"1\" class=\"dataframe\">\n",
       "  <thead>\n",
       "    <tr style=\"text-align: right;\">\n",
       "      <th></th>\n",
       "      <th>College</th>\n",
       "      <th>City</th>\n",
       "      <th>Previous CTC</th>\n",
       "      <th>Previous job change</th>\n",
       "      <th>Graduation Marks</th>\n",
       "      <th>EXP (Month)</th>\n",
       "      <th>CTC</th>\n",
       "      <th>Role_Executive</th>\n",
       "      <th>Role_Manager</th>\n",
       "    </tr>\n",
       "  </thead>\n",
       "  <tbody>\n",
       "    <tr>\n",
       "      <th>0</th>\n",
       "      <td>2</td>\n",
       "      <td>0</td>\n",
       "      <td>55523</td>\n",
       "      <td>3</td>\n",
       "      <td>66</td>\n",
       "      <td>19</td>\n",
       "      <td>71406.58</td>\n",
       "      <td>0</td>\n",
       "      <td>1</td>\n",
       "    </tr>\n",
       "    <tr>\n",
       "      <th>1</th>\n",
       "      <td>2</td>\n",
       "      <td>0</td>\n",
       "      <td>57081</td>\n",
       "      <td>1</td>\n",
       "      <td>84</td>\n",
       "      <td>18</td>\n",
       "      <td>68005.87</td>\n",
       "      <td>1</td>\n",
       "      <td>0</td>\n",
       "    </tr>\n",
       "    <tr>\n",
       "      <th>2</th>\n",
       "      <td>3</td>\n",
       "      <td>0</td>\n",
       "      <td>60347</td>\n",
       "      <td>2</td>\n",
       "      <td>52</td>\n",
       "      <td>28</td>\n",
       "      <td>76764.02</td>\n",
       "      <td>1</td>\n",
       "      <td>0</td>\n",
       "    </tr>\n",
       "    <tr>\n",
       "      <th>3</th>\n",
       "      <td>3</td>\n",
       "      <td>0</td>\n",
       "      <td>49010</td>\n",
       "      <td>2</td>\n",
       "      <td>81</td>\n",
       "      <td>33</td>\n",
       "      <td>82092.39</td>\n",
       "      <td>1</td>\n",
       "      <td>0</td>\n",
       "    </tr>\n",
       "    <tr>\n",
       "      <th>4</th>\n",
       "      <td>1</td>\n",
       "      <td>0</td>\n",
       "      <td>57879</td>\n",
       "      <td>4</td>\n",
       "      <td>74</td>\n",
       "      <td>32</td>\n",
       "      <td>73878.10</td>\n",
       "      <td>1</td>\n",
       "      <td>0</td>\n",
       "    </tr>\n",
       "    <tr>\n",
       "      <th>...</th>\n",
       "      <td>...</td>\n",
       "      <td>...</td>\n",
       "      <td>...</td>\n",
       "      <td>...</td>\n",
       "      <td>...</td>\n",
       "      <td>...</td>\n",
       "      <td>...</td>\n",
       "      <td>...</td>\n",
       "      <td>...</td>\n",
       "    </tr>\n",
       "    <tr>\n",
       "      <th>1584</th>\n",
       "      <td>1</td>\n",
       "      <td>1</td>\n",
       "      <td>61285</td>\n",
       "      <td>3</td>\n",
       "      <td>44</td>\n",
       "      <td>60</td>\n",
       "      <td>77283.59</td>\n",
       "      <td>1</td>\n",
       "      <td>0</td>\n",
       "    </tr>\n",
       "    <tr>\n",
       "      <th>1585</th>\n",
       "      <td>1</td>\n",
       "      <td>0</td>\n",
       "      <td>63140</td>\n",
       "      <td>1</td>\n",
       "      <td>44</td>\n",
       "      <td>24</td>\n",
       "      <td>68416.86</td>\n",
       "      <td>1</td>\n",
       "      <td>0</td>\n",
       "    </tr>\n",
       "    <tr>\n",
       "      <th>1586</th>\n",
       "      <td>1</td>\n",
       "      <td>1</td>\n",
       "      <td>44907</td>\n",
       "      <td>1</td>\n",
       "      <td>60</td>\n",
       "      <td>19</td>\n",
       "      <td>70186.19</td>\n",
       "      <td>1</td>\n",
       "      <td>0</td>\n",
       "    </tr>\n",
       "    <tr>\n",
       "      <th>1587</th>\n",
       "      <td>1</td>\n",
       "      <td>0</td>\n",
       "      <td>52054</td>\n",
       "      <td>2</td>\n",
       "      <td>67</td>\n",
       "      <td>29</td>\n",
       "      <td>73394.09</td>\n",
       "      <td>1</td>\n",
       "      <td>0</td>\n",
       "    </tr>\n",
       "    <tr>\n",
       "      <th>1588</th>\n",
       "      <td>2</td>\n",
       "      <td>1</td>\n",
       "      <td>44353</td>\n",
       "      <td>3</td>\n",
       "      <td>75</td>\n",
       "      <td>18</td>\n",
       "      <td>70056.31</td>\n",
       "      <td>0</td>\n",
       "      <td>1</td>\n",
       "    </tr>\n",
       "  </tbody>\n",
       "</table>\n",
       "<p>1589 rows × 9 columns</p>\n",
       "</div>"
      ],
      "text/plain": [
       "      College  City  Previous CTC  Previous job change  Graduation Marks  \\\n",
       "0           2     0         55523                    3                66   \n",
       "1           2     0         57081                    1                84   \n",
       "2           3     0         60347                    2                52   \n",
       "3           3     0         49010                    2                81   \n",
       "4           1     0         57879                    4                74   \n",
       "...       ...   ...           ...                  ...               ...   \n",
       "1584        1     1         61285                    3                44   \n",
       "1585        1     0         63140                    1                44   \n",
       "1586        1     1         44907                    1                60   \n",
       "1587        1     0         52054                    2                67   \n",
       "1588        2     1         44353                    3                75   \n",
       "\n",
       "      EXP (Month)       CTC  Role_Executive  Role_Manager  \n",
       "0              19  71406.58               0             1  \n",
       "1              18  68005.87               1             0  \n",
       "2              28  76764.02               1             0  \n",
       "3              33  82092.39               1             0  \n",
       "4              32  73878.10               1             0  \n",
       "...           ...       ...             ...           ...  \n",
       "1584           60  77283.59               1             0  \n",
       "1585           24  68416.86               1             0  \n",
       "1586           19  70186.19               1             0  \n",
       "1587           29  73394.09               1             0  \n",
       "1588           18  70056.31               0             1  \n",
       "\n",
       "[1589 rows x 9 columns]"
      ]
     },
     "execution_count": 15,
     "metadata": {},
     "output_type": "execute_result"
    }
   ],
   "source": [
    "df"
   ]
  },
  {
   "cell_type": "code",
   "execution_count": 16,
   "id": "03b04c95",
   "metadata": {},
   "outputs": [
    {
     "data": {
      "text/plain": [
       "(1589, 9)"
      ]
     },
     "execution_count": 16,
     "metadata": {},
     "output_type": "execute_result"
    }
   ],
   "source": [
    "df.shape"
   ]
  },
  {
   "cell_type": "markdown",
   "id": "5bb0a61e",
   "metadata": {},
   "source": [
    "## Finding missing values :"
   ]
  },
  {
   "cell_type": "code",
   "execution_count": 17,
   "id": "dc923168",
   "metadata": {},
   "outputs": [
    {
     "name": "stdout",
     "output_type": "stream",
     "text": [
      "<class 'pandas.core.frame.DataFrame'>\n",
      "RangeIndex: 1589 entries, 0 to 1588\n",
      "Data columns (total 9 columns):\n",
      " #   Column               Non-Null Count  Dtype  \n",
      "---  ------               --------------  -----  \n",
      " 0   College              1589 non-null   int64  \n",
      " 1   City                 1589 non-null   int64  \n",
      " 2   Previous CTC         1589 non-null   int64  \n",
      " 3   Previous job change  1589 non-null   int64  \n",
      " 4   Graduation Marks     1589 non-null   int64  \n",
      " 5   EXP (Month)          1589 non-null   int64  \n",
      " 6   CTC                  1589 non-null   float64\n",
      " 7   Role_Executive       1589 non-null   uint8  \n",
      " 8   Role_Manager         1589 non-null   uint8  \n",
      "dtypes: float64(1), int64(6), uint8(2)\n",
      "memory usage: 90.1 KB\n"
     ]
    }
   ],
   "source": [
    "df.info()"
   ]
  },
  {
   "cell_type": "markdown",
   "id": "b4f2f850",
   "metadata": {},
   "source": [
    "## There is no missing vaues :"
   ]
  },
  {
   "cell_type": "code",
   "execution_count": 18,
   "id": "82bd0aed",
   "metadata": {},
   "outputs": [
    {
     "data": {
      "text/plain": [
       "College                0\n",
       "City                   0\n",
       "Previous CTC           0\n",
       "Previous job change    0\n",
       "Graduation Marks       0\n",
       "EXP (Month)            0\n",
       "CTC                    0\n",
       "Role_Executive         0\n",
       "Role_Manager           0\n",
       "dtype: int64"
      ]
     },
     "execution_count": 18,
     "metadata": {},
     "output_type": "execute_result"
    }
   ],
   "source": [
    "df.isnull().sum()"
   ]
  },
  {
   "cell_type": "markdown",
   "id": "bf735e56",
   "metadata": {},
   "source": [
    "##  statistics value for numerical column : "
   ]
  },
  {
   "cell_type": "code",
   "execution_count": 19,
   "id": "0d21ced7",
   "metadata": {},
   "outputs": [
    {
     "data": {
      "text/html": [
       "<div>\n",
       "<style scoped>\n",
       "    .dataframe tbody tr th:only-of-type {\n",
       "        vertical-align: middle;\n",
       "    }\n",
       "\n",
       "    .dataframe tbody tr th {\n",
       "        vertical-align: top;\n",
       "    }\n",
       "\n",
       "    .dataframe thead th {\n",
       "        text-align: right;\n",
       "    }\n",
       "</style>\n",
       "<table border=\"1\" class=\"dataframe\">\n",
       "  <thead>\n",
       "    <tr style=\"text-align: right;\">\n",
       "      <th></th>\n",
       "      <th>College</th>\n",
       "      <th>City</th>\n",
       "      <th>Previous CTC</th>\n",
       "      <th>Previous job change</th>\n",
       "      <th>Graduation Marks</th>\n",
       "      <th>EXP (Month)</th>\n",
       "      <th>CTC</th>\n",
       "      <th>Role_Executive</th>\n",
       "      <th>Role_Manager</th>\n",
       "    </tr>\n",
       "  </thead>\n",
       "  <tbody>\n",
       "    <tr>\n",
       "      <th>count</th>\n",
       "      <td>1589.000000</td>\n",
       "      <td>1589.000000</td>\n",
       "      <td>1589.000000</td>\n",
       "      <td>1589.000000</td>\n",
       "      <td>1589.000000</td>\n",
       "      <td>1589.000000</td>\n",
       "      <td>1589.000000</td>\n",
       "      <td>1589.000000</td>\n",
       "      <td>1589.000000</td>\n",
       "    </tr>\n",
       "    <tr>\n",
       "      <th>mean</th>\n",
       "      <td>1.975456</td>\n",
       "      <td>0.514160</td>\n",
       "      <td>55518.453744</td>\n",
       "      <td>2.528634</td>\n",
       "      <td>59.855255</td>\n",
       "      <td>39.044682</td>\n",
       "      <td>75353.278798</td>\n",
       "      <td>0.793581</td>\n",
       "      <td>0.206419</td>\n",
       "    </tr>\n",
       "    <tr>\n",
       "      <th>std</th>\n",
       "      <td>0.838330</td>\n",
       "      <td>0.499957</td>\n",
       "      <td>6655.218445</td>\n",
       "      <td>1.123918</td>\n",
       "      <td>14.935139</td>\n",
       "      <td>14.108875</td>\n",
       "      <td>12587.288237</td>\n",
       "      <td>0.404862</td>\n",
       "      <td>0.404862</td>\n",
       "    </tr>\n",
       "    <tr>\n",
       "      <th>min</th>\n",
       "      <td>1.000000</td>\n",
       "      <td>0.000000</td>\n",
       "      <td>36990.000000</td>\n",
       "      <td>1.000000</td>\n",
       "      <td>35.000000</td>\n",
       "      <td>18.000000</td>\n",
       "      <td>53020.320000</td>\n",
       "      <td>0.000000</td>\n",
       "      <td>0.000000</td>\n",
       "    </tr>\n",
       "    <tr>\n",
       "      <th>25%</th>\n",
       "      <td>1.000000</td>\n",
       "      <td>0.000000</td>\n",
       "      <td>50518.000000</td>\n",
       "      <td>2.000000</td>\n",
       "      <td>46.000000</td>\n",
       "      <td>26.000000</td>\n",
       "      <td>66902.350000</td>\n",
       "      <td>1.000000</td>\n",
       "      <td>0.000000</td>\n",
       "    </tr>\n",
       "    <tr>\n",
       "      <th>50%</th>\n",
       "      <td>2.000000</td>\n",
       "      <td>1.000000</td>\n",
       "      <td>55291.000000</td>\n",
       "      <td>3.000000</td>\n",
       "      <td>60.000000</td>\n",
       "      <td>39.000000</td>\n",
       "      <td>73028.670000</td>\n",
       "      <td>1.000000</td>\n",
       "      <td>0.000000</td>\n",
       "    </tr>\n",
       "    <tr>\n",
       "      <th>75%</th>\n",
       "      <td>3.000000</td>\n",
       "      <td>1.000000</td>\n",
       "      <td>60109.000000</td>\n",
       "      <td>4.000000</td>\n",
       "      <td>73.000000</td>\n",
       "      <td>51.000000</td>\n",
       "      <td>80588.670000</td>\n",
       "      <td>1.000000</td>\n",
       "      <td>0.000000</td>\n",
       "    </tr>\n",
       "    <tr>\n",
       "      <th>max</th>\n",
       "      <td>3.000000</td>\n",
       "      <td>1.000000</td>\n",
       "      <td>77911.000000</td>\n",
       "      <td>4.000000</td>\n",
       "      <td>85.000000</td>\n",
       "      <td>64.000000</td>\n",
       "      <td>123416.990000</td>\n",
       "      <td>1.000000</td>\n",
       "      <td>1.000000</td>\n",
       "    </tr>\n",
       "  </tbody>\n",
       "</table>\n",
       "</div>"
      ],
      "text/plain": [
       "           College         City  Previous CTC  Previous job change  \\\n",
       "count  1589.000000  1589.000000   1589.000000          1589.000000   \n",
       "mean      1.975456     0.514160  55518.453744             2.528634   \n",
       "std       0.838330     0.499957   6655.218445             1.123918   \n",
       "min       1.000000     0.000000  36990.000000             1.000000   \n",
       "25%       1.000000     0.000000  50518.000000             2.000000   \n",
       "50%       2.000000     1.000000  55291.000000             3.000000   \n",
       "75%       3.000000     1.000000  60109.000000             4.000000   \n",
       "max       3.000000     1.000000  77911.000000             4.000000   \n",
       "\n",
       "       Graduation Marks  EXP (Month)            CTC  Role_Executive  \\\n",
       "count       1589.000000  1589.000000    1589.000000     1589.000000   \n",
       "mean          59.855255    39.044682   75353.278798        0.793581   \n",
       "std           14.935139    14.108875   12587.288237        0.404862   \n",
       "min           35.000000    18.000000   53020.320000        0.000000   \n",
       "25%           46.000000    26.000000   66902.350000        1.000000   \n",
       "50%           60.000000    39.000000   73028.670000        1.000000   \n",
       "75%           73.000000    51.000000   80588.670000        1.000000   \n",
       "max           85.000000    64.000000  123416.990000        1.000000   \n",
       "\n",
       "       Role_Manager  \n",
       "count   1589.000000  \n",
       "mean       0.206419  \n",
       "std        0.404862  \n",
       "min        0.000000  \n",
       "25%        0.000000  \n",
       "50%        0.000000  \n",
       "75%        0.000000  \n",
       "max        1.000000  "
      ]
     },
     "execution_count": 19,
     "metadata": {},
     "output_type": "execute_result"
    }
   ],
   "source": [
    "df.describe()"
   ]
  },
  {
   "cell_type": "markdown",
   "id": "1c0551d6",
   "metadata": {},
   "source": [
    "## Checking Outliers : "
   ]
  },
  {
   "cell_type": "code",
   "execution_count": 23,
   "id": "9a097c51",
   "metadata": {},
   "outputs": [
    {
     "name": "stderr",
     "output_type": "stream",
     "text": [
      "c:\\users\\arnav anand\\appdata\\local\\programs\\python\\python36\\lib\\site-packages\\seaborn\\_decorators.py:43: FutureWarning: Pass the following variable as a keyword arg: x. From version 0.12, the only valid positional argument will be `data`, and passing other arguments without an explicit keyword will result in an error or misinterpretation.\n",
      "  FutureWarning\n"
     ]
    },
    {
     "data": {
      "text/plain": [
       "<AxesSubplot:xlabel='Graduation Marks'>"
      ]
     },
     "execution_count": 23,
     "metadata": {},
     "output_type": "execute_result"
    },
    {
     "data": {
      "image/png": "[encoded data removed]",
      "text/plain": [
       "<Figure size 432x288 with 1 Axes>"
      ]
     },
     "metadata": {
      "needs_background": "light"
     },
     "output_type": "display_data"
    }
   ],
   "source": [
    "sns.boxplot(df['Graduation Marks'])"
   ]
  },
  {
   "cell_type": "code",
   "execution_count": 22,
   "id": "c5b1c8c1",
   "metadata": {},
   "outputs": [
    {
     "name": "stderr",
     "output_type": "stream",
     "text": [
      "c:\\users\\arnav anand\\appdata\\local\\programs\\python\\python36\\lib\\site-packages\\seaborn\\_decorators.py:43: FutureWarning: Pass the following variable as a keyword arg: x. From version 0.12, the only valid positional argument will be `data`, and passing other arguments without an explicit keyword will result in an error or misinterpretation.\n",
      "  FutureWarning\n"
     ]
    },
    {
     "data": {
      "text/plain": [
       "<AxesSubplot:xlabel='Previous CTC'>"
      ]
     },
     "execution_count": 22,
     "metadata": {},
     "output_type": "execute_result"
    },
    {
     "data": {
      "image/png": "[encoded data removed]",
      "text/plain": [
       "<Figure size 432x288 with 1 Axes>"
      ]
     },
     "metadata": {
      "needs_background": "light"
     },
     "output_type": "display_data"
    }
   ],
   "source": [
    "sns.boxplot(df['Previous CTC'])"
   ]
  },
  {
   "cell_type": "code",
   "execution_count": 25,
   "id": "00d7ad59",
   "metadata": {},
   "outputs": [
    {
     "name": "stderr",
     "output_type": "stream",
     "text": [
      "c:\\users\\arnav anand\\appdata\\local\\programs\\python\\python36\\lib\\site-packages\\seaborn\\_decorators.py:43: FutureWarning: Pass the following variable as a keyword arg: x. From version 0.12, the only valid positional argument will be `data`, and passing other arguments without an explicit keyword will result in an error or misinterpretation.\n",
      "  FutureWarning\n"
     ]
    },
    {
     "data": {
      "text/plain": [
       "<AxesSubplot:xlabel='CTC'>"
      ]
     },
     "execution_count": 25,
     "metadata": {},
     "output_type": "execute_result"
    },
    {
     "data": {
      "image/png": "[encoded data removed]",
      "text/plain": [
       "<Figure size 432x288 with 1 Axes>"
      ]
     },
     "metadata": {
      "needs_background": "light"
     },
     "output_type": "display_data"
    }
   ],
   "source": [
    "sns.boxplot(df['CTC'])"
   ]
  },
  {
   "cell_type": "code",
   "execution_count": 24,
   "id": "72390f15",
   "metadata": {},
   "outputs": [
    {
     "name": "stderr",
     "output_type": "stream",
     "text": [
      "c:\\users\\arnav anand\\appdata\\local\\programs\\python\\python36\\lib\\site-packages\\seaborn\\_decorators.py:43: FutureWarning: Pass the following variable as a keyword arg: x. From version 0.12, the only valid positional argument will be `data`, and passing other arguments without an explicit keyword will result in an error or misinterpretation.\n",
      "  FutureWarning\n"
     ]
    },
    {
     "data": {
      "text/plain": [
       "<AxesSubplot:xlabel='EXP (Month)'>"
      ]
     },
     "execution_count": 24,
     "metadata": {},
     "output_type": "execute_result"
    },
    {
     "data": {
      "image/png": "[encoded data removed]",
      "text/plain": [
       "<Figure size 432x288 with 1 Axes>"
      ]
     },
     "metadata": {
      "needs_background": "light"
     },
     "output_type": "display_data"
    }
   ],
   "source": [
    "sns.boxplot(df['EXP (Month)'])"
   ]
  },
  {
   "cell_type": "markdown",
   "id": "cfdd3a75",
   "metadata": {},
   "source": [
    "# Conclusion on Outliers: \n",
    "## -There is a minor outlier in the column names 'CTC' and 'Previous 'CTC'. \n",
    "## - As the outlier is an observation that appears far away and diverges from an overall pattern in dataset. \n",
    "## - Since there is no such outlier that will affect our data and will not make any huge difference while making prediction. So there is no need to treat any outlier."
   ]
  },
  {
   "cell_type": "markdown",
   "id": "1ac5ef6a",
   "metadata": {},
   "source": [
    "# Correlation Matrix :"
   ]
  },
  {
   "cell_type": "code",
   "execution_count": 28,
   "id": "d6defc3f",
   "metadata": {},
   "outputs": [
    {
     "data": {
      "text/html": [
       "<div>\n",
       "<style scoped>\n",
       "    .dataframe tbody tr th:only-of-type {\n",
       "        vertical-align: middle;\n",
       "    }\n",
       "\n",
       "    .dataframe tbody tr th {\n",
       "        vertical-align: top;\n",
       "    }\n",
       "\n",
       "    .dataframe thead th {\n",
       "        text-align: right;\n",
       "    }\n",
       "</style>\n",
       "<table border=\"1\" class=\"dataframe\">\n",
       "  <thead>\n",
       "    <tr style=\"text-align: right;\">\n",
       "      <th></th>\n",
       "      <th>College</th>\n",
       "      <th>City</th>\n",
       "      <th>Previous CTC</th>\n",
       "      <th>Previous job change</th>\n",
       "      <th>Graduation Marks</th>\n",
       "      <th>EXP (Month)</th>\n",
       "      <th>CTC</th>\n",
       "      <th>Role_Executive</th>\n",
       "      <th>Role_Manager</th>\n",
       "    </tr>\n",
       "  </thead>\n",
       "  <tbody>\n",
       "    <tr>\n",
       "      <th>College</th>\n",
       "      <td>1.000000</td>\n",
       "      <td>-0.014946</td>\n",
       "      <td>0.041979</td>\n",
       "      <td>-0.055060</td>\n",
       "      <td>0.003539</td>\n",
       "      <td>0.011752</td>\n",
       "      <td>-0.029592</td>\n",
       "      <td>0.014749</td>\n",
       "      <td>-0.014749</td>\n",
       "    </tr>\n",
       "    <tr>\n",
       "      <th>City</th>\n",
       "      <td>-0.014946</td>\n",
       "      <td>1.000000</td>\n",
       "      <td>0.004644</td>\n",
       "      <td>0.051670</td>\n",
       "      <td>-0.018616</td>\n",
       "      <td>-0.023613</td>\n",
       "      <td>-0.020365</td>\n",
       "      <td>0.048671</td>\n",
       "      <td>-0.048671</td>\n",
       "    </tr>\n",
       "    <tr>\n",
       "      <th>Previous CTC</th>\n",
       "      <td>0.041979</td>\n",
       "      <td>0.004644</td>\n",
       "      <td>1.000000</td>\n",
       "      <td>0.005756</td>\n",
       "      <td>-0.032976</td>\n",
       "      <td>0.119163</td>\n",
       "      <td>0.258000</td>\n",
       "      <td>-0.012321</td>\n",
       "      <td>0.012321</td>\n",
       "    </tr>\n",
       "    <tr>\n",
       "      <th>Previous job change</th>\n",
       "      <td>-0.055060</td>\n",
       "      <td>0.051670</td>\n",
       "      <td>0.005756</td>\n",
       "      <td>1.000000</td>\n",
       "      <td>0.019267</td>\n",
       "      <td>0.023488</td>\n",
       "      <td>0.011370</td>\n",
       "      <td>0.017150</td>\n",
       "      <td>-0.017150</td>\n",
       "    </tr>\n",
       "    <tr>\n",
       "      <th>Graduation Marks</th>\n",
       "      <td>0.003539</td>\n",
       "      <td>-0.018616</td>\n",
       "      <td>-0.032976</td>\n",
       "      <td>0.019267</td>\n",
       "      <td>1.000000</td>\n",
       "      <td>-0.057061</td>\n",
       "      <td>-0.005450</td>\n",
       "      <td>-0.017858</td>\n",
       "      <td>0.017858</td>\n",
       "    </tr>\n",
       "    <tr>\n",
       "      <th>EXP (Month)</th>\n",
       "      <td>0.011752</td>\n",
       "      <td>-0.023613</td>\n",
       "      <td>0.119163</td>\n",
       "      <td>0.023488</td>\n",
       "      <td>-0.057061</td>\n",
       "      <td>1.000000</td>\n",
       "      <td>0.301115</td>\n",
       "      <td>0.026751</td>\n",
       "      <td>-0.026751</td>\n",
       "    </tr>\n",
       "    <tr>\n",
       "      <th>CTC</th>\n",
       "      <td>-0.029592</td>\n",
       "      <td>-0.020365</td>\n",
       "      <td>0.258000</td>\n",
       "      <td>0.011370</td>\n",
       "      <td>-0.005450</td>\n",
       "      <td>0.301115</td>\n",
       "      <td>1.000000</td>\n",
       "      <td>-0.621311</td>\n",
       "      <td>0.621311</td>\n",
       "    </tr>\n",
       "    <tr>\n",
       "      <th>Role_Executive</th>\n",
       "      <td>0.014749</td>\n",
       "      <td>0.048671</td>\n",
       "      <td>-0.012321</td>\n",
       "      <td>0.017150</td>\n",
       "      <td>-0.017858</td>\n",
       "      <td>0.026751</td>\n",
       "      <td>-0.621311</td>\n",
       "      <td>1.000000</td>\n",
       "      <td>-1.000000</td>\n",
       "    </tr>\n",
       "    <tr>\n",
       "      <th>Role_Manager</th>\n",
       "      <td>-0.014749</td>\n",
       "      <td>-0.048671</td>\n",
       "      <td>0.012321</td>\n",
       "      <td>-0.017150</td>\n",
       "      <td>0.017858</td>\n",
       "      <td>-0.026751</td>\n",
       "      <td>0.621311</td>\n",
       "      <td>-1.000000</td>\n",
       "      <td>1.000000</td>\n",
       "    </tr>\n",
       "  </tbody>\n",
       "</table>\n",
       "</div>"
      ],
      "text/plain": [
       "                      College      City  Previous CTC  Previous job change  \\\n",
       "College              1.000000 -0.014946      0.041979            -0.055060   \n",
       "City                -0.014946  1.000000      0.004644             0.051670   \n",
       "Previous CTC         0.041979  0.004644      1.000000             0.005756   \n",
       "Previous job change -0.055060  0.051670      0.005756             1.000000   \n",
       "Graduation Marks     0.003539 -0.018616     -0.032976             0.019267   \n",
       "EXP (Month)          0.011752 -0.023613      0.119163             0.023488   \n",
       "CTC                 -0.029592 -0.020365      0.258000             0.011370   \n",
       "Role_Executive       0.014749  0.048671     -0.012321             0.017150   \n",
       "Role_Manager        -0.014749 -0.048671      0.012321            -0.017150   \n",
       "\n",
       "                     Graduation Marks  EXP (Month)       CTC  Role_Executive  \\\n",
       "College                      0.003539     0.011752 -0.029592        0.014749   \n",
       "City                        -0.018616    -0.023613 -0.020365        0.048671   \n",
       "Previous CTC                -0.032976     0.119163  0.258000       -0.012321   \n",
       "Previous job change          0.019267     0.023488  0.011370        0.017150   \n",
       "Graduation Marks             1.000000    -0.057061 -0.005450       -0.017858   \n",
       "EXP (Month)                 -0.057061     1.000000  0.301115        0.026751   \n",
       "CTC                         -0.005450     0.301115  1.000000       -0.621311   \n",
       "Role_Executive              -0.017858     0.026751 -0.621311        1.000000   \n",
       "Role_Manager                 0.017858    -0.026751  0.621311       -1.000000   \n",
       "\n",
       "                     Role_Manager  \n",
       "College                 -0.014749  \n",
       "City                    -0.048671  \n",
       "Previous CTC             0.012321  \n",
       "Previous job change     -0.017150  \n",
       "Graduation Marks         0.017858  \n",
       "EXP (Month)             -0.026751  \n",
       "CTC                      0.621311  \n",
       "Role_Executive          -1.000000  \n",
       "Role_Manager             1.000000  "
      ]
     },
     "execution_count": 28,
     "metadata": {},
     "output_type": "execute_result"
    }
   ],
   "source": [
    "## Corelation between variables\n",
    "corr = df.corr()\n",
    "corr"
   ]
  },
  {
   "cell_type": "code",
   "execution_count": 29,
   "id": "d5451457",
   "metadata": {},
   "outputs": [],
   "source": [
    "## calculate correlation matrics\n",
    "corr_matrix=df.corr()"
   ]
  },
  {
   "cell_type": "code",
   "execution_count": 30,
   "id": "ae8fd529",
   "metadata": {},
   "outputs": [
    {
     "data": {
      "image/png": "[encoded data removed]",
      "text/plain": [
       "<Figure size 432x288 with 2 Axes>"
      ]
     },
     "metadata": {
      "needs_background": "light"
     },
     "output_type": "display_data"
    }
   ],
   "source": [
    "## Create a heatmap to visualize the correlations\n",
    "sns.heatmap(corr_matrix , annot=True , cmap='coolwarm')\n",
    "plt.title('Correlation Matrix')\n",
    "plt.show()"
   ]
  },
  {
   "cell_type": "markdown",
   "id": "2df07005",
   "metadata": {},
   "source": [
    "# Regression Techniques :"
   ]
  },
  {
   "cell_type": "markdown",
   "id": "2ca51eba",
   "metadata": {},
   "source": [
    "## 1. Multi Linear Regression :\n",
    "     "
   ]
  },
  {
   "cell_type": "code",
   "execution_count": 70,
   "id": "521e3937",
   "metadata": {},
   "outputs": [],
   "source": [
    "# Split Data into train and test with test_size = 0.2(80% data into train and 20% to test)\n",
    "X_train, X_test, y_train, y_test = train_test_split(X_multi, y_multi, test_size = 0.2, random_state = 10)"
   ]
  },
  {
   "cell_type": "code",
   "execution_count": 1,
   "id": "568fe323",
   "metadata": {},
   "outputs": [
    {
     "ename": "NameError",
     "evalue": "name 'df' is not defined",
     "output_type": "error",
     "traceback": [
      "\u001b[1;31m---------------------------------------------------------------------------\u001b[0m",
      "\u001b[1;31mNameError\u001b[0m                                 Traceback (most recent call last)",
      "\u001b[1;32m<ipython-input-1-29e06b1a0345>\u001b[0m in \u001b[0;36m<module>\u001b[1;34m\u001b[0m\n\u001b[0;32m      1\u001b[0m \u001b[1;31m## creating x variable (independent variable)\u001b[0m\u001b[1;33m\u001b[0m\u001b[1;33m\u001b[0m\u001b[1;33m\u001b[0m\u001b[0m\n\u001b[1;32m----> 2\u001b[1;33m \u001b[0mX_multi\u001b[0m \u001b[1;33m=\u001b[0m \u001b[0mdf\u001b[0m\u001b[1;33m.\u001b[0m\u001b[0mloc\u001b[0m\u001b[1;33m[\u001b[0m\u001b[1;33m:\u001b[0m\u001b[1;33m,\u001b[0m \u001b[0mdf\u001b[0m\u001b[1;33m.\u001b[0m\u001b[0mcolumns\u001b[0m \u001b[1;33m!=\u001b[0m\u001b[1;34m\"CTC\"\u001b[0m\u001b[1;33m]\u001b[0m\u001b[1;33m\u001b[0m\u001b[1;33m\u001b[0m\u001b[0m\n\u001b[0m",
      "\u001b[1;31mNameError\u001b[0m: name 'df' is not defined"
     ]
    }
   ],
   "source": [
    "## creating x variable (independent variable)\n",
    "X_multi = df.loc[:, df.columns !=\"CTC\"]"
   ]
  },
  {
   "cell_type": "code",
   "execution_count": null,
   "id": "d190b524",
   "metadata": {},
   "outputs": [],
   "source": []
  },
  {
   "cell_type": "code",
   "execution_count": 72,
   "id": "9a3e634c",
   "metadata": {},
   "outputs": [
    {
     "data": {
      "text/html": [
       "<div>\n",
       "<style scoped>\n",
       "    .dataframe tbody tr th:only-of-type {\n",
       "        vertical-align: middle;\n",
       "    }\n",
       "\n",
       "    .dataframe tbody tr th {\n",
       "        vertical-align: top;\n",
       "    }\n",
       "\n",
       "    .dataframe thead th {\n",
       "        text-align: right;\n",
       "    }\n",
       "</style>\n",
       "<table border=\"1\" class=\"dataframe\">\n",
       "  <thead>\n",
       "    <tr style=\"text-align: right;\">\n",
       "      <th></th>\n",
       "      <th>College</th>\n",
       "      <th>City</th>\n",
       "      <th>Previous CTC</th>\n",
       "      <th>Previous job change</th>\n",
       "      <th>Graduation Marks</th>\n",
       "      <th>EXP (Month)</th>\n",
       "      <th>Role_Executive</th>\n",
       "      <th>Role_Manager</th>\n",
       "    </tr>\n",
       "  </thead>\n",
       "  <tbody>\n",
       "    <tr>\n",
       "      <th>0</th>\n",
       "      <td>2</td>\n",
       "      <td>0</td>\n",
       "      <td>55523</td>\n",
       "      <td>3</td>\n",
       "      <td>66</td>\n",
       "      <td>19</td>\n",
       "      <td>0</td>\n",
       "      <td>1</td>\n",
       "    </tr>\n",
       "    <tr>\n",
       "      <th>1</th>\n",
       "      <td>2</td>\n",
       "      <td>0</td>\n",
       "      <td>57081</td>\n",
       "      <td>1</td>\n",
       "      <td>84</td>\n",
       "      <td>18</td>\n",
       "      <td>1</td>\n",
       "      <td>0</td>\n",
       "    </tr>\n",
       "    <tr>\n",
       "      <th>2</th>\n",
       "      <td>3</td>\n",
       "      <td>0</td>\n",
       "      <td>60347</td>\n",
       "      <td>2</td>\n",
       "      <td>52</td>\n",
       "      <td>28</td>\n",
       "      <td>1</td>\n",
       "      <td>0</td>\n",
       "    </tr>\n",
       "    <tr>\n",
       "      <th>3</th>\n",
       "      <td>3</td>\n",
       "      <td>0</td>\n",
       "      <td>49010</td>\n",
       "      <td>2</td>\n",
       "      <td>81</td>\n",
       "      <td>33</td>\n",
       "      <td>1</td>\n",
       "      <td>0</td>\n",
       "    </tr>\n",
       "    <tr>\n",
       "      <th>4</th>\n",
       "      <td>1</td>\n",
       "      <td>0</td>\n",
       "      <td>57879</td>\n",
       "      <td>4</td>\n",
       "      <td>74</td>\n",
       "      <td>32</td>\n",
       "      <td>1</td>\n",
       "      <td>0</td>\n",
       "    </tr>\n",
       "  </tbody>\n",
       "</table>\n",
       "</div>"
      ],
      "text/plain": [
       "   College  City  Previous CTC  Previous job change  Graduation Marks  \\\n",
       "0        2     0         55523                    3                66   \n",
       "1        2     0         57081                    1                84   \n",
       "2        3     0         60347                    2                52   \n",
       "3        3     0         49010                    2                81   \n",
       "4        1     0         57879                    4                74   \n",
       "\n",
       "   EXP (Month)  Role_Executive  Role_Manager  \n",
       "0           19               0             1  \n",
       "1           18               1             0  \n",
       "2           28               1             0  \n",
       "3           33               1             0  \n",
       "4           32               1             0  "
      ]
     },
     "execution_count": 72,
     "metadata": {},
     "output_type": "execute_result"
    }
   ],
   "source": [
    "X_multi.head()"
   ]
  },
  {
   "cell_type": "code",
   "execution_count": 73,
   "id": "8d4a2b58",
   "metadata": {},
   "outputs": [],
   "source": [
    "## creating y variable (dependent variable)\n",
    "y_multi = df['CTC']"
   ]
  },
  {
   "cell_type": "code",
   "execution_count": 74,
   "id": "d07597cb",
   "metadata": {},
   "outputs": [
    {
     "data": {
      "text/plain": [
       "0    71406.58\n",
       "1    68005.87\n",
       "2    76764.02\n",
       "3    82092.39\n",
       "4    73878.10\n",
       "Name: CTC, dtype: float64"
      ]
     },
     "execution_count": 74,
     "metadata": {},
     "output_type": "execute_result"
    }
   ],
   "source": [
    "y_multi.head()"
   ]
  },
  {
   "cell_type": "code",
   "execution_count": 75,
   "id": "f79870e5",
   "metadata": {},
   "outputs": [],
   "source": [
    "## create constant\n",
    "X_multi_cons = sn.add_constant(X_multi)"
   ]
  },
  {
   "cell_type": "code",
   "execution_count": 76,
   "id": "8b129098",
   "metadata": {},
   "outputs": [
    {
     "data": {
      "text/html": [
       "<div>\n",
       "<style scoped>\n",
       "    .dataframe tbody tr th:only-of-type {\n",
       "        vertical-align: middle;\n",
       "    }\n",
       "\n",
       "    .dataframe tbody tr th {\n",
       "        vertical-align: top;\n",
       "    }\n",
       "\n",
       "    .dataframe thead th {\n",
       "        text-align: right;\n",
       "    }\n",
       "</style>\n",
       "<table border=\"1\" class=\"dataframe\">\n",
       "  <thead>\n",
       "    <tr style=\"text-align: right;\">\n",
       "      <th></th>\n",
       "      <th>const</th>\n",
       "      <th>College</th>\n",
       "      <th>City</th>\n",
       "      <th>Previous CTC</th>\n",
       "      <th>Previous job change</th>\n",
       "      <th>Graduation Marks</th>\n",
       "      <th>EXP (Month)</th>\n",
       "      <th>Role_Executive</th>\n",
       "      <th>Role_Manager</th>\n",
       "    </tr>\n",
       "  </thead>\n",
       "  <tbody>\n",
       "    <tr>\n",
       "      <th>0</th>\n",
       "      <td>1.0</td>\n",
       "      <td>2</td>\n",
       "      <td>0</td>\n",
       "      <td>55523</td>\n",
       "      <td>3</td>\n",
       "      <td>66</td>\n",
       "      <td>19</td>\n",
       "      <td>0</td>\n",
       "      <td>1</td>\n",
       "    </tr>\n",
       "    <tr>\n",
       "      <th>1</th>\n",
       "      <td>1.0</td>\n",
       "      <td>2</td>\n",
       "      <td>0</td>\n",
       "      <td>57081</td>\n",
       "      <td>1</td>\n",
       "      <td>84</td>\n",
       "      <td>18</td>\n",
       "      <td>1</td>\n",
       "      <td>0</td>\n",
       "    </tr>\n",
       "    <tr>\n",
       "      <th>2</th>\n",
       "      <td>1.0</td>\n",
       "      <td>3</td>\n",
       "      <td>0</td>\n",
       "      <td>60347</td>\n",
       "      <td>2</td>\n",
       "      <td>52</td>\n",
       "      <td>28</td>\n",
       "      <td>1</td>\n",
       "      <td>0</td>\n",
       "    </tr>\n",
       "    <tr>\n",
       "      <th>3</th>\n",
       "      <td>1.0</td>\n",
       "      <td>3</td>\n",
       "      <td>0</td>\n",
       "      <td>49010</td>\n",
       "      <td>2</td>\n",
       "      <td>81</td>\n",
       "      <td>33</td>\n",
       "      <td>1</td>\n",
       "      <td>0</td>\n",
       "    </tr>\n",
       "    <tr>\n",
       "      <th>4</th>\n",
       "      <td>1.0</td>\n",
       "      <td>1</td>\n",
       "      <td>0</td>\n",
       "      <td>57879</td>\n",
       "      <td>4</td>\n",
       "      <td>74</td>\n",
       "      <td>32</td>\n",
       "      <td>1</td>\n",
       "      <td>0</td>\n",
       "    </tr>\n",
       "  </tbody>\n",
       "</table>\n",
       "</div>"
      ],
      "text/plain": [
       "   const  College  City  Previous CTC  Previous job change  Graduation Marks  \\\n",
       "0    1.0        2     0         55523                    3                66   \n",
       "1    1.0        2     0         57081                    1                84   \n",
       "2    1.0        3     0         60347                    2                52   \n",
       "3    1.0        3     0         49010                    2                81   \n",
       "4    1.0        1     0         57879                    4                74   \n",
       "\n",
       "   EXP (Month)  Role_Executive  Role_Manager  \n",
       "0           19               0             1  \n",
       "1           18               1             0  \n",
       "2           28               1             0  \n",
       "3           33               1             0  \n",
       "4           32               1             0  "
      ]
     },
     "execution_count": 76,
     "metadata": {},
     "output_type": "execute_result"
    }
   ],
   "source": [
    "X_multi_cons.head()"
   ]
  },
  {
   "cell_type": "code",
   "execution_count": 77,
   "id": "71d44e48",
   "metadata": {},
   "outputs": [],
   "source": [
    "## fit our model\n",
    "ml_multi_stats = sn.OLS(y_multi, X_multi_cons).fit()"
   ]
  },
  {
   "cell_type": "code",
   "execution_count": 78,
   "id": "6c521af8",
   "metadata": {},
   "outputs": [
    {
     "data": {
      "text/html": [
       "<table class=\"simpletable\">\n",
       "<caption>OLS Regression Results</caption>\n",
       "<tr>\n",
       "  <th>Dep. Variable:</th>           <td>CTC</td>       <th>  R-squared:         </th> <td>   0.534</td> \n",
       "</tr>\n",
       "<tr>\n",
       "  <th>Model:</th>                   <td>OLS</td>       <th>  Adj. R-squared:    </th> <td>   0.532</td> \n",
       "</tr>\n",
       "<tr>\n",
       "  <th>Method:</th>             <td>Least Squares</td>  <th>  F-statistic:       </th> <td>   259.1</td> \n",
       "</tr>\n",
       "<tr>\n",
       "  <th>Date:</th>             <td>Thu, 06 Jun 2024</td> <th>  Prob (F-statistic):</th> <td>4.70e-257</td>\n",
       "</tr>\n",
       "<tr>\n",
       "  <th>Time:</th>                 <td>13:38:11</td>     <th>  Log-Likelihood:    </th> <td> -16648.</td> \n",
       "</tr>\n",
       "<tr>\n",
       "  <th>No. Observations:</th>      <td>  1589</td>      <th>  AIC:               </th> <td>3.331e+04</td>\n",
       "</tr>\n",
       "<tr>\n",
       "  <th>Df Residuals:</th>          <td>  1581</td>      <th>  BIC:               </th> <td>3.335e+04</td>\n",
       "</tr>\n",
       "<tr>\n",
       "  <th>Df Model:</th>              <td>     7</td>      <th>                     </th>     <td> </td>    \n",
       "</tr>\n",
       "<tr>\n",
       "  <th>Covariance Type:</th>      <td>nonrobust</td>    <th>                     </th>     <td> </td>    \n",
       "</tr>\n",
       "</table>\n",
       "<table class=\"simpletable\">\n",
       "<tr>\n",
       "           <td></td>              <th>coef</th>     <th>std err</th>      <th>t</th>      <th>P>|t|</th>  <th>[0.025</th>    <th>0.975]</th>  \n",
       "</tr>\n",
       "<tr>\n",
       "  <th>const</th>               <td> 3.211e+04</td> <td> 1463.780</td> <td>   21.936</td> <td> 0.000</td> <td> 2.92e+04</td> <td>  3.5e+04</td>\n",
       "</tr>\n",
       "<tr>\n",
       "  <th>College</th>             <td> -481.5147</td> <td>  258.382</td> <td>   -1.864</td> <td> 0.063</td> <td> -988.321</td> <td>   25.292</td>\n",
       "</tr>\n",
       "<tr>\n",
       "  <th>City</th>                <td>  380.8308</td> <td>  433.455</td> <td>    0.879</td> <td> 0.380</td> <td> -469.377</td> <td> 1231.039</td>\n",
       "</tr>\n",
       "<tr>\n",
       "  <th>Previous CTC</th>        <td>    0.4101</td> <td>    0.033</td> <td>   12.526</td> <td> 0.000</td> <td>    0.346</td> <td>    0.474</td>\n",
       "</tr>\n",
       "<tr>\n",
       "  <th>Previous job change</th> <td>  126.5653</td> <td>  192.887</td> <td>    0.656</td> <td> 0.512</td> <td> -251.776</td> <td>  504.906</td>\n",
       "</tr>\n",
       "<tr>\n",
       "  <th>Graduation Marks</th>    <td>    6.2362</td> <td>   14.502</td> <td>    0.430</td> <td> 0.667</td> <td>  -22.208</td> <td>   34.681</td>\n",
       "</tr>\n",
       "<tr>\n",
       "  <th>EXP (Month)</th>         <td>  261.3444</td> <td>   15.460</td> <td>   16.904</td> <td> 0.000</td> <td>  231.020</td> <td>  291.669</td>\n",
       "</tr>\n",
       "<tr>\n",
       "  <th>Role_Executive</th>      <td> 6311.2273</td> <td>  760.861</td> <td>    8.295</td> <td> 0.000</td> <td> 4818.825</td> <td> 7803.630</td>\n",
       "</tr>\n",
       "<tr>\n",
       "  <th>Role_Manager</th>        <td>  2.58e+04</td> <td>  797.098</td> <td>   32.366</td> <td> 0.000</td> <td> 2.42e+04</td> <td> 2.74e+04</td>\n",
       "</tr>\n",
       "</table>\n",
       "<table class=\"simpletable\">\n",
       "<tr>\n",
       "  <th>Omnibus:</th>       <td>49.726</td> <th>  Durbin-Watson:     </th> <td>   2.052</td>\n",
       "</tr>\n",
       "<tr>\n",
       "  <th>Prob(Omnibus):</th> <td> 0.000</td> <th>  Jarque-Bera (JB):  </th> <td>  55.299</td>\n",
       "</tr>\n",
       "<tr>\n",
       "  <th>Skew:</th>          <td> 0.408</td> <th>  Prob(JB):          </th> <td>9.82e-13</td>\n",
       "</tr>\n",
       "<tr>\n",
       "  <th>Kurtosis:</th>      <td> 3.411</td> <th>  Cond. No.          </th> <td>2.30e+19</td>\n",
       "</tr>\n",
       "</table><br/><br/>Notes:<br/>[1] Standard Errors assume that the covariance matrix of the errors is correctly specified.<br/>[2] The smallest eigenvalue is 9.37e-27. This might indicate that there are<br/>strong multicollinearity problems or that the design matrix is singular."
      ],
      "text/plain": [
       "<class 'statsmodels.iolib.summary.Summary'>\n",
       "\"\"\"\n",
       "                            OLS Regression Results                            \n",
       "==============================================================================\n",
       "Dep. Variable:                    CTC   R-squared:                       0.534\n",
       "Model:                            OLS   Adj. R-squared:                  0.532\n",
       "Method:                 Least Squares   F-statistic:                     259.1\n",
       "Date:                Thu, 06 Jun 2024   Prob (F-statistic):          4.70e-257\n",
       "Time:                        13:38:11   Log-Likelihood:                -16648.\n",
       "No. Observations:                1589   AIC:                         3.331e+04\n",
       "Df Residuals:                    1581   BIC:                         3.335e+04\n",
       "Df Model:                           7                                         \n",
       "Covariance Type:            nonrobust                                         \n",
       "=======================================================================================\n",
       "                          coef    std err          t      P>|t|      [0.025      0.975]\n",
       "---------------------------------------------------------------------------------------\n",
       "const                3.211e+04   1463.780     21.936      0.000    2.92e+04     3.5e+04\n",
       "College              -481.5147    258.382     -1.864      0.063    -988.321      25.292\n",
       "City                  380.8308    433.455      0.879      0.380    -469.377    1231.039\n",
       "Previous CTC            0.4101      0.033     12.526      0.000       0.346       0.474\n",
       "Previous job change   126.5653    192.887      0.656      0.512    -251.776     504.906\n",
       "Graduation Marks        6.2362     14.502      0.430      0.667     -22.208      34.681\n",
       "EXP (Month)           261.3444     15.460     16.904      0.000     231.020     291.669\n",
       "Role_Executive       6311.2273    760.861      8.295      0.000    4818.825    7803.630\n",
       "Role_Manager          2.58e+04    797.098     32.366      0.000    2.42e+04    2.74e+04\n",
       "==============================================================================\n",
       "Omnibus:                       49.726   Durbin-Watson:                   2.052\n",
       "Prob(Omnibus):                  0.000   Jarque-Bera (JB):               55.299\n",
       "Skew:                           0.408   Prob(JB):                     9.82e-13\n",
       "Kurtosis:                       3.411   Cond. No.                     2.30e+19\n",
       "==============================================================================\n",
       "\n",
       "Notes:\n",
       "[1] Standard Errors assume that the covariance matrix of the errors is correctly specified.\n",
       "[2] The smallest eigenvalue is 9.37e-27. This might indicate that there are\n",
       "strong multicollinearity problems or that the design matrix is singular.\n",
       "\"\"\""
      ]
     },
     "execution_count": 78,
     "metadata": {},
     "output_type": "execute_result"
    }
   ],
   "source": [
    "ml_multi_stats.summary()"
   ]
  },
  {
   "cell_type": "code",
   "execution_count": 79,
   "id": "d8dcec1a",
   "metadata": {},
   "outputs": [],
   "source": [
    "## create another object\n",
    "m1_multi_lr = LinearRegression()"
   ]
  },
  {
   "cell_type": "code",
   "execution_count": 80,
   "id": "e27fa6e3",
   "metadata": {},
   "outputs": [
    {
     "data": {
      "text/plain": [
       "LinearRegression()"
      ]
     },
     "execution_count": 80,
     "metadata": {},
     "output_type": "execute_result"
    }
   ],
   "source": [
    "## fit our model\n",
    "m1_multi_lr.fit(X_multi, y_multi)"
   ]
  },
  {
   "cell_type": "code",
   "execution_count": 81,
   "id": "7a7c43a8",
   "metadata": {},
   "outputs": [
    {
     "name": "stdout",
     "output_type": "stream",
     "text": [
      "48164.82373580207 [-4.81514705e+02  3.80830787e+02  4.10090279e-01  1.26565295e+02\n",
      "  6.23621203e+00  2.61344394e+02 -9.74371393e+03  9.74371393e+03]\n"
     ]
    }
   ],
   "source": [
    "print(m1_multi_lr.intercept_, m1_multi_lr.coef_)"
   ]
  },
  {
   "cell_type": "code",
   "execution_count": 82,
   "id": "fca874f3",
   "metadata": {},
   "outputs": [],
   "source": [
    "y_pred = m1_multi_lr.predict(X_multi)"
   ]
  },
  {
   "cell_type": "code",
   "execution_count": 83,
   "id": "4a4c1c05",
   "metadata": {},
   "outputs": [],
   "source": [
    "mse = mean_squared_error(y_multi,y_pred)\n",
    "r2 = r2_score(y_multi,y_pred)"
   ]
  },
  {
   "cell_type": "code",
   "execution_count": 161,
   "id": "096022f1",
   "metadata": {},
   "outputs": [
    {
     "name": "stdout",
     "output_type": "stream",
     "text": [
      "Mean Squared Error =  57160448.59851348 \n",
      "R2 Score = 0.6254768212048424\n"
     ]
    }
   ],
   "source": [
    "print(\"Mean Squared Error = \",mse,\n",
    "      \"\\nR2 Score =\",r2)"
   ]
  },
  {
   "cell_type": "code",
   "execution_count": 163,
   "id": "59346e4a",
   "metadata": {},
   "outputs": [
    {
     "name": "stdout",
     "output_type": "stream",
     "text": [
      "48164.82373580207\n"
     ]
    }
   ],
   "source": [
    "print(m1_multi_lr.intercept_)"
   ]
  },
  {
   "cell_type": "markdown",
   "id": "0c57244e",
   "metadata": {},
   "source": [
    "## 2. Decision Tree Regressor "
   ]
  },
  {
   "cell_type": "code",
   "execution_count": 144,
   "id": "7eae0b00",
   "metadata": {},
   "outputs": [],
   "source": [
    "X = df.loc[:,df.columns!=\"CTC\"]"
   ]
  },
  {
   "cell_type": "code",
   "execution_count": 145,
   "id": "db1c4326",
   "metadata": {},
   "outputs": [],
   "source": [
    "y = df[\"CTC\"]"
   ]
  },
  {
   "cell_type": "code",
   "execution_count": 146,
   "id": "8976725f",
   "metadata": {},
   "outputs": [],
   "source": [
    "X_train, X_test, y_train, y_test = train_test_split(X, y,test_size=0.2,random_state=0)"
   ]
  },
  {
   "cell_type": "code",
   "execution_count": 147,
   "id": "34e4669d",
   "metadata": {},
   "outputs": [
    {
     "name": "stdout",
     "output_type": "stream",
     "text": [
      "(1271, 8) (318, 8) (1271,) (318,)\n"
     ]
    }
   ],
   "source": [
    "print(X_train.shape,X_test.shape, y_train.shape, y_test.shape)"
   ]
  },
  {
   "cell_type": "code",
   "execution_count": 148,
   "id": "26de461b",
   "metadata": {},
   "outputs": [],
   "source": [
    "regtree = tree.DecisionTreeRegressor(max_depth = 3)"
   ]
  },
  {
   "cell_type": "code",
   "execution_count": 149,
   "id": "40439796",
   "metadata": {},
   "outputs": [
    {
     "data": {
      "text/plain": [
       "DecisionTreeRegressor(max_depth=3)"
      ]
     },
     "execution_count": 149,
     "metadata": {},
     "output_type": "execute_result"
    }
   ],
   "source": [
    "regtree.fit(X_train, y_train)"
   ]
  },
  {
   "cell_type": "code",
   "execution_count": 150,
   "id": "2020f527",
   "metadata": {},
   "outputs": [],
   "source": [
    "y_train_pred = regtree.predict(X_train)\n",
    "y_test_pred = regtree.predict(X_test)"
   ]
  },
  {
   "cell_type": "code",
   "execution_count": 151,
   "id": "f0d856e5",
   "metadata": {},
   "outputs": [],
   "source": [
    "mse = mean_squared_error(y_test, y_test_pred)\n",
    "r2 = r2_score(y_test, y_test_pred)"
   ]
  },
  {
   "cell_type": "code",
   "execution_count": 152,
   "id": "198b0dd9",
   "metadata": {},
   "outputs": [
    {
     "name": "stdout",
     "output_type": "stream",
     "text": [
      "Mean Squared Error =  60424631.02613471 \n",
      "R2 Score = 0.5927831611924914\n"
     ]
    }
   ],
   "source": [
    "print(\"Mean Squared Error = \",mse,\n",
    "      \"\\nR2 Score =\",r2)"
   ]
  },
  {
   "cell_type": "code",
   "execution_count": 153,
   "id": "60a1cd66",
   "metadata": {},
   "outputs": [],
   "source": [
    "dot_data = tree.export_graphviz(regtree, out_file=None,feature_names= X_train.columns, filled = True)"
   ]
  },
  {
   "cell_type": "code",
   "execution_count": 154,
   "id": "602990c5",
   "metadata": {},
   "outputs": [
    {
     "data": {
      "image/png": "[encoded data removed]",
      "text/plain": [
       "<IPython.core.display.Image object>"
      ]
     },
     "execution_count": 154,
     "metadata": {},
     "output_type": "execute_result"
    }
   ],
   "source": [
    "graph = pydotplus.graph_from_dot_data(dot_data)\n",
    "Image(graph.create_png())"
   ]
  },
  {
   "cell_type": "markdown",
   "id": "46ba4c56",
   "metadata": {},
   "source": [
    "## 3. Random Forest Regressor"
   ]
  },
  {
   "cell_type": "code",
   "execution_count": 155,
   "id": "f40ece4e",
   "metadata": {},
   "outputs": [],
   "source": [
    "rf = RandomForestRegressor(n_estimators=250, random_state=42)  "
   ]
  },
  {
   "cell_type": "code",
   "execution_count": 156,
   "id": "e48ab3e9",
   "metadata": {},
   "outputs": [
    {
     "data": {
      "text/plain": [
       "RandomForestRegressor(n_estimators=250, random_state=42)"
      ]
     },
     "execution_count": 156,
     "metadata": {},
     "output_type": "execute_result"
    }
   ],
   "source": [
    "rf.fit(X_train, y_train)"
   ]
  },
  {
   "cell_type": "code",
   "execution_count": 157,
   "id": "4ae66943",
   "metadata": {},
   "outputs": [],
   "source": [
    "predictions = rf.predict(X_test)"
   ]
  },
  {
   "cell_type": "code",
   "execution_count": 158,
   "id": "e07cbcd3",
   "metadata": {},
   "outputs": [],
   "source": [
    "mse = mean_squared_error(y_test, predictions)\n",
    "r2 = r2_score(y_test, predictions)"
   ]
  },
  {
   "cell_type": "code",
   "execution_count": 159,
   "id": "f7a5ad07",
   "metadata": {},
   "outputs": [
    {
     "name": "stdout",
     "output_type": "stream",
     "text": [
      "Mean Squared Error =  50230097.349703275 \n",
      "R2 Score = 0.6614866965940986\n"
     ]
    }
   ],
   "source": [
    "print(\"Mean Squared Error = \",mse,\n",
    "      \"\\nR2 Score =\",r2)"
   ]
  },
  {
   "cell_type": "code",
   "execution_count": 160,
   "id": "55948a85",
   "metadata": {},
   "outputs": [],
   "source": [
    "model = GradientBoostingRegressor(n_estimators = 250, learning_rate = 0.1, max_depth = 4, random_state = 42)"
   ]
  },
  {
   "cell_type": "code",
   "execution_count": 161,
   "id": "e141a674",
   "metadata": {},
   "outputs": [
    {
     "data": {
      "text/plain": [
       "GradientBoostingRegressor(max_depth=4, n_estimators=250, random_state=42)"
      ]
     },
     "execution_count": 161,
     "metadata": {},
     "output_type": "execute_result"
    }
   ],
   "source": [
    "model.fit(X_train, y_train)"
   ]
  },
  {
   "cell_type": "code",
   "execution_count": 162,
   "id": "8a96ca13",
   "metadata": {},
   "outputs": [],
   "source": [
    "pred = model.predict(X_test)"
   ]
  },
  {
   "cell_type": "code",
   "execution_count": 163,
   "id": "3b187f01",
   "metadata": {},
   "outputs": [],
   "source": [
    "mse = mean_squared_error(y_test, pred)\n",
    "r2 = r2_score(y_test,pred)"
   ]
  },
  {
   "cell_type": "code",
   "execution_count": 164,
   "id": "43f0d2c3",
   "metadata": {},
   "outputs": [
    {
     "name": "stdout",
     "output_type": "stream",
     "text": [
      "Mean Squared Error =  54502725.99793167 \n",
      "R2 Score = 0.6326923737826373\n"
     ]
    }
   ],
   "source": [
    "print(\"Mean Squared Error = \",mse,\n",
    "      \"\\nR2 Score =\",r2)"
   ]
  },
  {
   "cell_type": "markdown",
   "id": "e5a208b2",
   "metadata": {},
   "source": [
    "## 4. XGBoost Regressor "
   ]
  },
  {
   "cell_type": "code",
   "execution_count": 165,
   "id": "3347c328",
   "metadata": {},
   "outputs": [],
   "source": [
    "m5 = XGBRegressor(n_estimators = 250, max_depth = 5, learning_rate = 0.1)"
   ]
  },
  {
   "cell_type": "code",
   "execution_count": 166,
   "id": "bdd91774",
   "metadata": {},
   "outputs": [
    {
     "data": {
      "text/plain": [
       "XGBRegressor(base_score=0.5, booster='gbtree', colsample_bylevel=1,\n",
       "             colsample_bynode=1, colsample_bytree=1, enable_categorical=False,\n",
       "             gamma=0, gpu_id=-1, importance_type=None,\n",
       "             interaction_constraints='', learning_rate=0.1, max_delta_step=0,\n",
       "             max_depth=5, min_child_weight=1, missing=nan,\n",
       "             monotone_constraints='()', n_estimators=250, n_jobs=4,\n",
       "             num_parallel_tree=1, predictor='auto', random_state=0, reg_alpha=0,\n",
       "             reg_lambda=1, scale_pos_weight=1, subsample=1, tree_method='exact',\n",
       "             validate_parameters=1, verbosity=None)"
      ]
     },
     "execution_count": 166,
     "metadata": {},
     "output_type": "execute_result"
    }
   ],
   "source": [
    "m5.fit(X_train, y_train)"
   ]
  },
  {
   "cell_type": "code",
   "execution_count": 167,
   "id": "f94af112",
   "metadata": {},
   "outputs": [],
   "source": [
    "pred = m5.predict(X_test)"
   ]
  },
  {
   "cell_type": "code",
   "execution_count": 168,
   "id": "67912574",
   "metadata": {},
   "outputs": [],
   "source": [
    "mse = mean_squared_error(y_test, pred)\n",
    "r2 = r2_score(y_test, pred)"
   ]
  },
  {
   "cell_type": "code",
   "execution_count": 169,
   "id": "2b207cf7",
   "metadata": {},
   "outputs": [
    {
     "name": "stdout",
     "output_type": "stream",
     "text": [
      "Mean Squared Error =  54611189.14315933 \n",
      "R2 Score = 0.6319614132723841\n"
     ]
    }
   ],
   "source": [
    "print(\"Mean Squared Error = \",mse,\n",
    "      \"\\nR2 Score =\",r2)"
   ]
  },
  {
   "cell_type": "markdown",
   "id": "28e29f31",
   "metadata": {},
   "source": [
    "## 5. Ridge Regressor"
   ]
  },
  {
   "cell_type": "markdown",
   "id": "ef2a0494",
   "metadata": {},
   "source": [
    "### Standarlising our data"
   ]
  },
  {
   "cell_type": "code",
   "execution_count": 85,
   "id": "e786ed17",
   "metadata": {},
   "outputs": [],
   "source": [
    "## create scaler object which will store the scaling information for our x variable\n",
    "scaler =StandardScaler()"
   ]
  },
  {
   "cell_type": "code",
   "execution_count": 86,
   "id": "7ad0ae58",
   "metadata": {},
   "outputs": [
    {
     "data": {
      "text/plain": [
       "StandardScaler()"
      ]
     },
     "execution_count": 86,
     "metadata": {},
     "output_type": "execute_result"
    }
   ],
   "source": [
    "scaler.fit(X_train)"
   ]
  },
  {
   "cell_type": "code",
   "execution_count": 87,
   "id": "b4cc990c",
   "metadata": {},
   "outputs": [],
   "source": [
    "## transform x_train into x_train_scale\n",
    "X_train_s = scaler.transform(X_train)"
   ]
  },
  {
   "cell_type": "code",
   "execution_count": 88,
   "id": "2bf29cd1",
   "metadata": {},
   "outputs": [],
   "source": [
    "## transform x_test into x_test_scale\n",
    "X_test_s = scaler.transform(X_test)"
   ]
  },
  {
   "cell_type": "code",
   "execution_count": 89,
   "id": "c59d893c",
   "metadata": {},
   "outputs": [],
   "source": [
    "## run simple ridge regression\n",
    "lm_r = Ridge(alpha = 0.5)"
   ]
  },
  {
   "cell_type": "code",
   "execution_count": 90,
   "id": "dbab9d48",
   "metadata": {},
   "outputs": [
    {
     "data": {
      "text/plain": [
       "Ridge(alpha=0.5)"
      ]
     },
     "execution_count": 90,
     "metadata": {},
     "output_type": "execute_result"
    }
   ],
   "source": [
    "lm_r.fit(X_train_s,y_train)"
   ]
  },
  {
   "cell_type": "code",
   "execution_count": 179,
   "id": "ff0c3c3e",
   "metadata": {},
   "outputs": [],
   "source": [
    "y_pred = lm_r.predict(X_test_s)"
   ]
  },
  {
   "cell_type": "code",
   "execution_count": 180,
   "id": "b22b7d66",
   "metadata": {},
   "outputs": [],
   "source": [
    "mse = mean_squared_error(y_test, y_pred)\n",
    "r2 = r2_score(y_test, y_pred)"
   ]
  },
  {
   "cell_type": "code",
   "execution_count": 181,
   "id": "a0939927",
   "metadata": {},
   "outputs": [
    {
     "name": "stdout",
     "output_type": "stream",
     "text": [
      "Mean Squared Error =  68910404.93750554 \n",
      "R2 Score = 0.5355953891144283\n"
     ]
    }
   ],
   "source": [
    "print(\"Mean Squared Error = \",mse,\n",
    "      \"\\nR2 Score =\",r2)"
   ]
  },
  {
   "cell_type": "markdown",
   "id": "8fb7c7c7",
   "metadata": {},
   "source": [
    "### Changing Hyperparameters"
   ]
  },
  {
   "cell_type": "code",
   "execution_count": 92,
   "id": "b504c496",
   "metadata": {},
   "outputs": [],
   "source": [
    "## creating array for λ value\n",
    "param_range = np.logspace(-2,8,100)"
   ]
  },
  {
   "cell_type": "code",
   "execution_count": 93,
   "id": "33a3d9fa",
   "metadata": {},
   "outputs": [],
   "source": [
    "## run iteration for our model\n",
    "train_scores, test_scores = validation_curve(\n",
    "  Ridge(),\n",
    "  X_train_s, \n",
    "  y_train,\n",
    "  param_name =\"alpha\",\n",
    "  param_range = param_range,\n",
    "  scoring = \"r2\"\n",
    ")"
   ]
  },
  {
   "cell_type": "code",
   "execution_count": 95,
   "id": "844e5aff",
   "metadata": {},
   "outputs": [
    {
     "name": "stdout",
     "output_type": "stream",
     "text": [
      "[[5.42929238e-01 5.54914288e-01 5.40195527e-01 5.61157913e-01\n",
      "  5.17227287e-01]\n",
      " [5.42929238e-01 5.54914288e-01 5.40195527e-01 5.61157912e-01\n",
      "  5.17227287e-01]\n",
      " [5.42929238e-01 5.54914288e-01 5.40195527e-01 5.61157912e-01\n",
      "  5.17227287e-01]\n",
      " [5.42929237e-01 5.54914288e-01 5.40195527e-01 5.61157912e-01\n",
      "  5.17227287e-01]\n",
      " [5.42929237e-01 5.54914288e-01 5.40195527e-01 5.61157912e-01\n",
      "  5.17227286e-01]\n",
      " [5.42929237e-01 5.54914288e-01 5.40195527e-01 5.61157912e-01\n",
      "  5.17227286e-01]\n",
      " [5.42929237e-01 5.54914288e-01 5.40195527e-01 5.61157912e-01\n",
      "  5.17227286e-01]\n",
      " [5.42929237e-01 5.54914288e-01 5.40195526e-01 5.61157912e-01\n",
      "  5.17227286e-01]\n",
      " [5.42929237e-01 5.54914288e-01 5.40195526e-01 5.61157912e-01\n",
      "  5.17227286e-01]\n",
      " [5.42929236e-01 5.54914287e-01 5.40195526e-01 5.61157911e-01\n",
      "  5.17227285e-01]\n",
      " [5.42929235e-01 5.54914286e-01 5.40195525e-01 5.61157910e-01\n",
      "  5.17227285e-01]\n",
      " [5.42929234e-01 5.54914285e-01 5.40195523e-01 5.61157909e-01\n",
      "  5.17227283e-01]\n",
      " [5.42929232e-01 5.54914283e-01 5.40195521e-01 5.61157906e-01\n",
      "  5.17227281e-01]\n",
      " [5.42929229e-01 5.54914280e-01 5.40195518e-01 5.61157903e-01\n",
      "  5.17227278e-01]\n",
      " [5.42929224e-01 5.54914274e-01 5.40195512e-01 5.61157897e-01\n",
      "  5.17227273e-01]\n",
      " [5.42929216e-01 5.54914266e-01 5.40195503e-01 5.61157888e-01\n",
      "  5.17227265e-01]\n",
      " [5.42929203e-01 5.54914253e-01 5.40195489e-01 5.61157873e-01\n",
      "  5.17227253e-01]\n",
      " [5.42929182e-01 5.54914231e-01 5.40195467e-01 5.61157850e-01\n",
      "  5.17227233e-01]\n",
      " [5.42929149e-01 5.54914197e-01 5.40195431e-01 5.61157813e-01\n",
      "  5.17227201e-01]\n",
      " [5.42929096e-01 5.54914144e-01 5.40195374e-01 5.61157754e-01\n",
      "  5.17227150e-01]\n",
      " [5.42929012e-01 5.54914058e-01 5.40195284e-01 5.61157660e-01\n",
      "  5.17227069e-01]\n",
      " [5.42928879e-01 5.54913922e-01 5.40195140e-01 5.61157510e-01\n",
      "  5.17226941e-01]\n",
      " [5.42928667e-01 5.54913705e-01 5.40194911e-01 5.61157272e-01\n",
      "  5.17226736e-01]\n",
      " [5.42928330e-01 5.54913360e-01 5.40194547e-01 5.61156893e-01\n",
      "  5.17226411e-01]\n",
      " [5.42927794e-01 5.54912811e-01 5.40193968e-01 5.61156290e-01\n",
      "  5.17225893e-01]\n",
      " [5.42926941e-01 5.54911937e-01 5.40193048e-01 5.61155332e-01\n",
      "  5.17225070e-01]\n",
      " [5.42925585e-01 5.54910550e-01 5.40191585e-01 5.61153810e-01\n",
      "  5.17223762e-01]\n",
      " [5.42923430e-01 5.54908345e-01 5.40189260e-01 5.61151390e-01\n",
      "  5.17221683e-01]\n",
      " [5.42920008e-01 5.54904843e-01 5.40185568e-01 5.61147548e-01\n",
      "  5.17218382e-01]\n",
      " [5.42914578e-01 5.54899287e-01 5.40179710e-01 5.61141452e-01\n",
      "  5.17213145e-01]\n",
      " [5.42905969e-01 5.54890477e-01 5.40170424e-01 5.61131788e-01\n",
      "  5.17204841e-01]\n",
      " [5.42892332e-01 5.54876524e-01 5.40155718e-01 5.61116486e-01\n",
      "  5.17191691e-01]\n",
      " [5.42870763e-01 5.54854456e-01 5.40132463e-01 5.61092289e-01\n",
      "  5.17170897e-01]\n",
      " [5.42836706e-01 5.54819616e-01 5.40095757e-01 5.61054098e-01\n",
      "  5.17138071e-01]\n",
      " [5.42783046e-01 5.54764728e-01 5.40037946e-01 5.60993953e-01\n",
      "  5.17086367e-01]\n",
      " [5.42698726e-01 5.54678492e-01 5.39947150e-01 5.60899499e-01\n",
      "  5.17005153e-01]\n",
      " [5.42566671e-01 5.54543464e-01 5.39805043e-01 5.60751685e-01\n",
      "  5.16878026e-01]\n",
      " [5.42360717e-01 5.54332921e-01 5.39583587e-01 5.60521367e-01\n",
      "  5.16679874e-01]\n",
      " [5.42041158e-01 5.54006336e-01 5.39240313e-01 5.60164419e-01\n",
      "  5.16372644e-01]\n",
      " [5.41548469e-01 5.53502987e-01 5.38711703e-01 5.59614868e-01\n",
      "  5.15899374e-01]\n",
      " [5.40794737e-01 5.52733256e-01 5.37904231e-01 5.58775613e-01\n",
      "  5.15176095e-01]\n",
      " [5.39652516e-01 5.51567339e-01 5.36682826e-01 5.57506496e-01\n",
      "  5.14081345e-01]\n",
      " [5.37941254e-01 5.49821509e-01 5.34857028e-01 5.55609999e-01\n",
      "  5.12443465e-01]\n",
      " [5.35412292e-01 5.47242982e-01 5.32166088e-01 5.52815878e-01\n",
      "  5.10026685e-01]\n",
      " [5.31734920e-01 5.43495893e-01 5.28265781e-01 5.48767607e-01\n",
      "  5.06518322e-01]\n",
      " [5.26487885e-01 5.38152783e-01 5.22721723e-01 5.43015554e-01\n",
      "  5.01521193e-01]\n",
      " [5.19162790e-01 5.30698050e-01 5.15015883e-01 5.35023757e-01\n",
      "  4.94557115e-01]\n",
      " [5.09187022e-01 5.20550947e-01 5.04573820e-01 5.24198013e-01\n",
      "  4.85088409e-01]\n",
      " [4.95972792e-01 5.07114681e-01 4.90818481e-01 5.09941220e-01\n",
      "  4.72563272e-01]\n",
      " [4.78994224e-01 4.89853625e-01 4.73250977e-01 4.91736425e-01\n",
      "  4.56486795e-01]\n",
      " [4.57885824e-01 4.68392243e-01 4.51549716e-01 4.69248843e-01\n",
      "  4.36511770e-01]\n",
      " [4.32544846e-01 4.42618599e-01 4.25668836e-01 4.42427465e-01\n",
      "  4.12533842e-01]\n",
      " [4.03211228e-01 4.12766374e-01 3.95909412e-01 4.11579156e-01\n",
      "  3.84767275e-01]\n",
      " [3.70497292e-01 3.79447266e-01 3.62937499e-01 3.77388463e-01\n",
      "  3.53775617e-01]\n",
      " [3.35349161e-01 3.43614772e-01 3.27734374e-01 3.40867631e-01\n",
      "  3.20439489e-01]\n",
      " [2.98941314e-01 3.06459608e-01 2.91484091e-01 3.03241482e-01\n",
      "  2.85861135e-01]\n",
      " [2.62527533e-01 2.69259297e-01 2.55423745e-01 2.65792908e-01\n",
      "  2.51225957e-01]\n",
      " [2.27285302e-01 2.33219268e-01 2.20693263e-01 2.29706920e-01\n",
      "  2.17655235e-01]\n",
      " [1.94190044e-01 1.99342930e-01 1.88218727e-01 1.95948724e-01\n",
      "  1.86084860e-01]\n",
      " [1.63941840e-01 1.68354640e-01 1.58648724e-01 1.65196505e-01\n",
      "  1.57192700e-01]\n",
      " [1.36948451e-01 1.40680315e-01 1.32345001e-01 1.37830672e-01\n",
      "  1.31379462e-01]\n",
      " [1.13353281e-01 1.16474562e-01 1.09414883e-01 1.13966790e-01\n",
      "  1.08793057e-01]\n",
      " [9.30898318e-02 9.56756003e-02 8.97671273e-02 9.35132135e-02\n",
      "  8.93791957e-02]\n",
      " [7.59448368e-02 7.80696459e-02 7.31742167e-02 7.62357340e-02\n",
      "  7.29411305e-02]\n",
      " [6.16172129e-02 6.33513927e-02 5.93292932e-02 6.18168292e-02\n",
      "  5.91959985e-02]\n",
      " [4.97659500e-02 5.11733505e-02 4.78916797e-02 4.99031509e-02\n",
      "  4.78209209e-02]\n",
      " [4.00448895e-02 4.11818040e-02 3.85194739e-02 4.01395908e-02\n",
      "  3.84866830e-02]\n",
      " [3.21253595e-02 3.30403056e-02 3.08904293e-02 3.21911524e-02\n",
      "  3.08797955e-02]\n",
      " [2.57090345e-02 2.64430942e-02 2.47135440e-02 2.57551283e-02\n",
      "  2.47151390e-02]\n",
      " [2.05336859e-02 2.11211648e-02 1.97339707e-02 2.05662970e-02\n",
      "  1.97417254e-02]\n",
      " [1.63742020e-02 1.68434351e-02 1.57335340e-02 1.63975238e-02\n",
      "  1.57438566e-02]\n",
      " [1.30407456e-02 1.34149356e-02 1.25286278e-02 1.30576124e-02\n",
      "  1.25394830e-02]\n",
      " [1.03753894e-02 1.06734064e-02 9.96675070e-03 1.03877255e-02\n",
      "  9.97705908e-03]\n",
      " [8.24812273e-03 8.48523155e-03 7.92251316e-03 8.25724373e-03\n",
      "  7.93176685e-03]\n",
      " [6.55278576e-03 6.74128149e-03 6.29362599e-03 6.55959843e-03\n",
      "  6.30164709e-03]\n",
      " [5.20324297e-03 5.35299561e-03 4.99715609e-03 5.20837887e-03\n",
      "  5.00394790e-03]\n",
      " [4.12995339e-03 4.24886496e-03 3.96618695e-03 4.13385729e-03\n",
      "  3.97184435e-03]\n",
      " [3.27699275e-03 3.37137627e-03 3.14692947e-03 3.27998162e-03\n",
      "  3.15158642e-03]\n",
      " [2.59952537e-03 2.67441596e-03 2.49627537e-03 2.60182787e-03\n",
      "  2.50007534e-03]\n",
      " [2.06169270e-03 2.12110089e-03 1.97975738e-03 2.06347573e-03\n",
      "  1.98283771e-03]\n",
      " [1.63487071e-03 1.68198760e-03 1.56986825e-03 1.63625750e-03\n",
      "  1.57235275e-03]\n",
      " [1.29624487e-03 1.33360741e-03 1.24468743e-03 1.29732737e-03\n",
      "  1.24668365e-03]\n",
      " [1.02765276e-03 1.05727653e-03 9.86766651e-04 1.02850025e-03\n",
      "  9.88365796e-04]\n",
      " [8.14649162e-04 8.38134659e-04 7.82230189e-04 8.15314250e-04\n",
      "  7.83508282e-04]\n",
      " [6.45753824e-04 6.64371441e-04 6.20051389e-04 6.46276791e-04\n",
      "  6.21071044e-04]\n",
      " [5.11848316e-04 5.26606080e-04 4.91472693e-04 5.12260179e-04\n",
      "  4.92285018e-04]\n",
      " [4.05693517e-04 4.17391068e-04 3.89541860e-04 4.06018291e-04\n",
      "  3.90188294e-04]\n",
      " [3.21544424e-04 3.30815961e-04 3.08741795e-04 3.21800783e-04\n",
      "  3.09255767e-04]\n",
      " [2.54843111e-04 2.62191544e-04 2.44695540e-04 2.55045632e-04\n",
      "  2.45103913e-04]\n",
      " [2.01974294e-04 2.07798365e-04 1.93931445e-04 2.02134386e-04\n",
      "  1.94255738e-04]\n",
      " [1.60070901e-04 1.64686732e-04 1.53696407e-04 1.60197518e-04\n",
      "  1.53953822e-04]\n",
      " [1.26859561e-04 1.30517750e-04 1.21807461e-04 1.26959745e-04\n",
      "  1.22011720e-04]\n",
      " [1.00537870e-04 1.03437062e-04 9.65339011e-05 1.00617164e-04\n",
      "  9.66959375e-05]\n",
      " [7.96769524e-05 8.19746006e-05 7.65037089e-05 7.97397292e-05\n",
      "  7.66322235e-05]\n",
      " [6.31441358e-05 6.49650378e-05 6.06292898e-05 6.31938461e-05\n",
      "  6.07312004e-05]\n",
      " [5.00415984e-05 5.14846668e-05 4.80485601e-05 5.00809683e-05\n",
      "  4.81293634e-05]\n",
      " [3.96577080e-05 4.08013367e-05 3.80782179e-05 3.96888924e-05\n",
      "  3.81422788e-05]\n",
      " [3.14284304e-05 3.23347502e-05 3.01766855e-05 3.14531338e-05\n",
      "  3.02274687e-05]\n",
      " [2.49067291e-05 2.56249807e-05 2.39147264e-05 2.49263000e-05\n",
      "  2.39549814e-05]\n",
      " [1.97383048e-05 2.03075122e-05 1.89521494e-05 1.97538105e-05\n",
      "  1.89840571e-05]]\n",
      "[[ 5.38185652e-01  4.82310581e-01  5.51099208e-01  4.66053882e-01\n",
      "   6.21330996e-01]\n",
      " [ 5.38185772e-01  4.82310737e-01  5.51099225e-01  4.66054108e-01\n",
      "   6.21330651e-01]\n",
      " [ 5.38185924e-01  4.82310934e-01  5.51099246e-01  4.66054393e-01\n",
      "   6.21330216e-01]\n",
      " [ 5.38186116e-01  4.82311182e-01  5.51099272e-01  4.66054753e-01\n",
      "   6.21329667e-01]\n",
      " [ 5.38186357e-01  4.82311496e-01  5.51099305e-01  4.66055208e-01\n",
      "   6.21328974e-01]\n",
      " [ 5.38186662e-01  4.82311891e-01  5.51099346e-01  4.66055781e-01\n",
      "   6.21328099e-01]\n",
      " [ 5.38187047e-01  4.82312390e-01  5.51099399e-01  4.66056504e-01\n",
      "   6.21326996e-01]\n",
      " [ 5.38187533e-01  4.82313020e-01  5.51099465e-01  4.66057417e-01\n",
      "   6.21325604e-01]\n",
      " [ 5.38188145e-01  4.82313815e-01  5.51099549e-01  4.66058569e-01\n",
      "   6.21323847e-01]\n",
      " [ 5.38188918e-01  4.82314817e-01  5.51099654e-01  4.66060022e-01\n",
      "   6.21321629e-01]\n",
      " [ 5.38189893e-01  4.82316082e-01  5.51099787e-01  4.66061855e-01\n",
      "   6.21318832e-01]\n",
      " [ 5.38191123e-01  4.82317677e-01  5.51099954e-01  4.66064168e-01\n",
      "   6.21315301e-01]\n",
      " [ 5.38192675e-01  4.82319690e-01  5.51100164e-01  4.66067086e-01\n",
      "   6.21310846e-01]\n",
      " [ 5.38194632e-01  4.82322228e-01  5.51100429e-01  4.66070767e-01\n",
      "   6.21305224e-01]\n",
      " [ 5.38197100e-01  4.82325431e-01  5.51100761e-01  4.66075410e-01\n",
      "   6.21298130e-01]\n",
      " [ 5.38200212e-01  4.82329469e-01  5.51101179e-01  4.66081266e-01\n",
      "   6.21289177e-01]\n",
      " [ 5.38204136e-01  4.82334562e-01  5.51101704e-01  4.66088652e-01\n",
      "   6.21277879e-01]\n",
      " [ 5.38209082e-01  4.82340982e-01  5.51102360e-01  4.66097966e-01\n",
      "   6.21263621e-01]\n",
      " [ 5.38215314e-01  4.82349075e-01  5.51103181e-01  4.66109708e-01\n",
      "   6.21245626e-01]\n",
      " [ 5.38223164e-01  4.82359272e-01  5.51104204e-01  4.66124508e-01\n",
      "   6.21222916e-01]\n",
      " [ 5.38233047e-01  4.82372117e-01  5.51105476e-01  4.66143157e-01\n",
      "   6.21194252e-01]\n",
      " [ 5.38245484e-01  4.82388290e-01  5.51107049e-01  4.66166648e-01\n",
      "   6.21158072e-01]\n",
      " [ 5.38261120e-01  4.82408641e-01  5.51108985e-01  4.66196223e-01\n",
      "   6.21112401e-01]\n",
      " [ 5.38280762e-01  4.82434229e-01  5.51111348e-01  4.66233438e-01\n",
      "   6.21054746e-01]\n",
      " [ 5.38305406e-01  4.82466373e-01  5.51114204e-01  4.66280229e-01\n",
      "   6.20981952e-01]\n",
      " [ 5.38336278e-01  4.82506705e-01  5.51117608e-01  4.66339005e-01\n",
      "   6.20890031e-01]\n",
      " [ 5.38374877e-01  4.82557233e-01  5.51121585e-01  4.66412748e-01\n",
      "   6.20773937e-01]\n",
      " [ 5.38423015e-01  4.82620412e-01  5.51126100e-01  4.66505128e-01\n",
      "   6.20627280e-01]\n",
      " [ 5.38482860e-01  4.82699218e-01  5.51130999e-01  4.66620631e-01\n",
      "   6.20441961e-01]\n",
      " [ 5.38556952e-01  4.82797207e-01  5.51135918e-01  4.66764691e-01\n",
      "   6.20207708e-01]\n",
      " [ 5.38648196e-01  4.82918558e-01  5.51140129e-01  4.66943802e-01\n",
      "   6.19911475e-01]\n",
      " [ 5.38759781e-01  4.83068062e-01  5.51142296e-01  4.67165601e-01\n",
      "   6.19536670e-01]\n",
      " [ 5.38894996e-01  4.83251011e-01  5.51140080e-01  4.67438846e-01\n",
      "   6.19062160e-01]\n",
      " [ 5.39056844e-01  4.83472915e-01  5.51129523e-01  4.67773229e-01\n",
      "   6.18460977e-01]\n",
      " [ 5.39247352e-01  4.83738933e-01  5.51104083e-01  4.68178888e-01\n",
      "   6.17698648e-01]\n",
      " [ 5.39466389e-01  4.84052836e-01  5.51053155e-01  4.68665427e-01\n",
      "   6.16731023e-01]\n",
      " [ 5.39709733e-01  4.84415253e-01  5.50959824e-01  4.69240146e-01\n",
      "   6.15501473e-01]\n",
      " [ 5.39966030e-01  4.84820852e-01  5.50797541e-01  4.69905105e-01\n",
      "   6.13937288e-01]\n",
      " [ 5.40212160e-01  4.85253978e-01  5.50525271e-01  4.70652465e-01\n",
      "   6.11945117e-01]\n",
      " [ 5.40406445e-01  4.85682185e-01  5.50080656e-01  4.71457475e-01\n",
      "   6.09405321e-01]\n",
      " [ 5.40479072e-01  4.86047083e-01  5.49370696e-01  4.72268425e-01\n",
      "   6.06165232e-01]\n",
      " [ 5.40319261e-01  4.86252017e-01  5.48259678e-01  4.72993026e-01\n",
      "   6.02031576e-01]\n",
      " [ 5.39759142e-01  4.86146596e-01  5.46554587e-01  4.73481208e-01\n",
      "   5.96762785e-01]\n",
      " [ 5.38555279e-01  4.85508978e-01  5.43989245e-01  4.73505413e-01\n",
      "   5.90062715e-01]\n",
      " [ 5.36370395e-01  4.84028422e-01  5.40210026e-01  4.72741205e-01\n",
      "   5.81578251e-01]\n",
      " [ 5.32760122e-01  4.81292675e-01  5.34768121e-01  4.70753493e-01\n",
      "   5.70904466e-01]\n",
      " [ 5.27172059e-01  4.76787075e-01  5.27125417e-01  4.66996106e-01\n",
      "   5.57601702e-01]\n",
      " [ 5.18966123e-01  4.69913577e-01  5.16682006e-01  4.60833886e-01\n",
      "   5.41228740e-01]\n",
      " [ 5.07464370e-01  4.60037048e-01  5.02831720e-01  4.51595057e-01\n",
      "   5.21394096e-01]\n",
      " [ 4.92033750e-01  4.46561660e-01  4.85046411e-01  4.38655989e-01\n",
      "   4.97823139e-01]\n",
      " [ 4.72195749e-01  4.29031644e-01  4.62980138e-01  4.21550416e-01\n",
      "   4.70432475e-01]\n",
      " [ 4.47744474e-01  4.07239694e-01  4.36573186e-01  4.00083148e-01\n",
      "   4.39396523e-01]\n",
      " [ 4.18843880e-01  3.81316759e-01  4.06127781e-01  3.74419026e-01\n",
      "   4.05187253e-01]\n",
      " [ 3.86071897e-01  3.51774213e-01  3.72327897e-01  3.45117285e-01\n",
      "   3.68569611e-01]\n",
      " [ 3.50388912e-01  3.19477688e-01  3.36187647e-01  3.13092812e-01\n",
      "   3.30544076e-01]\n",
      " [ 3.13029582e-01  2.85550701e-01  2.98933764e-01  2.79507003e-01\n",
      "   2.92242502e-01]\n",
      " [ 2.75341962e-01  2.51228853e-01  2.61849128e-01  2.45613599e-01\n",
      "   2.54798513e-01]\n",
      " [ 2.38614773e-01  2.17701237e-01  2.26116092e-01  2.12598492e-01\n",
      "   2.19222157e-01]\n",
      " [ 2.03934157e-01  1.85977134e-01  1.92695118e-01  1.81450835e-01\n",
      "   1.86305966e-01]\n",
      " [ 1.72096722e-01  1.56803376e-01  1.62258860e-01  1.52888059e-01\n",
      "   1.56577611e-01]\n",
      " [ 1.43584733e-01  1.30638783e-01  1.35182766e-01  1.27338011e-01\n",
      "   1.30299323e-01]\n",
      " [ 1.18591929e-01  1.07675776e-01  1.11578939e-01  1.04966250e-01\n",
      "   1.07502697e-01]\n",
      " [ 9.70800374e-02  8.78911080e-02  9.13541490e-02  8.57297380e-02\n",
      "   8.80427329e-02]\n",
      " [ 7.88462341e-02  7.11074767e-02  7.42743724e-02  6.94390576e-02\n",
      "   7.16562620e-02]\n",
      " [ 6.35870932e-02  5.70524590e-02  6.00236766e-02  5.58164505e-02\n",
      "   5.80144959e-02]\n",
      " [ 5.09510811e-02  4.54072056e-02  4.82512386e-02  4.45429184e-02\n",
      "   4.67645438e-02]\n",
      " [ 4.05770438e-02  3.58423437e-02  3.86049750e-02  3.52924343e-02\n",
      "   3.75587669e-02]\n",
      " [ 3.21195406e-02  2.80417500e-02  3.07530671e-02  2.77542522e-02\n",
      "   3.00732428e-02]\n",
      " [ 2.52634900e-02  2.17164147e-02  2.43958955e-02  2.16456558e-02\n",
      "   2.40176600e-02]\n",
      " [ 1.97309883e-02  1.66110072e-02  1.92710885e-02  1.67177601e-02\n",
      "   1.91391026e-02]\n",
      " [ 1.52828786e-02  1.25055296e-02  1.51540470e-02  1.27566905e-02\n",
      "   1.52218564e-02]\n",
      " [ 1.17171112e-02  9.21394891e-03  1.18557712e-02  9.58195765e-03\n",
      "   1.20848824e-02]\n",
      " [ 8.86536814e-03  6.58118266e-03  9.21928885e-03  7.04333495e-03\n",
      "   9.57811733e-03]\n",
      " [ 6.58894035e-03  4.47936084e-03  7.11554035e-03  5.01710603e-03\n",
      "   7.57836599e-03]\n",
      " [ 4.77447415e-03  2.80394431e-03  5.43924654e-03  3.40222289e-03\n",
      "   5.98524708e-03]\n",
      " [ 3.32994011e-03  1.47003276e-03  4.10505278e-03  2.11668114e-03\n",
      "   4.71744778e-03]\n",
      " [ 2.18100290e-03  4.09032052e-04  3.04409038e-03  1.09426480e-03\n",
      "   3.70940476e-03]\n",
      " [ 1.26786008e-03 -4.34252330e-04  2.20100215e-03  2.81717254e-04\n",
      "   2.90844524e-03]\n",
      " [ 5.42552635e-04 -1.10409092e-03  1.53142378e-03 -3.63662288e-04\n",
      "   2.27237351e-03]\n",
      " [-3.32849172e-05 -1.63590283e-03  9.99884197e-04 -8.76027368e-04\n",
      "   1.76746316e-03]\n",
      " [-4.90283325e-04 -2.05796920e-03  5.78075339e-04 -1.28264246e-03\n",
      "   1.36680520e-03]\n",
      " [-8.52860087e-04 -2.39283619e-03  2.43438673e-04 -1.60523941e-03\n",
      "   1.04896027e-03]\n",
      " [-1.14045592e-03 -2.65845571e-03 -2.19817820e-05 -1.86111928e-03\n",
      "   7.96865835e-04]\n",
      " [-1.36853414e-03 -2.86910752e-03 -2.32465428e-04 -2.06404262e-03\n",
      "   5.96954696e-04]\n",
      " [-1.54938496e-03 -3.03614157e-03 -3.99359671e-04 -2.22494571e-03\n",
      "   4.38446440e-04]\n",
      " [-1.69277071e-03 -3.16857359e-03 -5.31676784e-04 -2.35251512e-03\n",
      "   3.12779762e-04]\n",
      " [-1.80644203e-03 -3.27356165e-03 -6.36571197e-04 -2.45364717e-03\n",
      "   2.13158649e-04]\n",
      " [-1.89655011e-03 -3.35678674e-03 -7.19720444e-04 -2.53381487e-03\n",
      "   1.34190252e-04]\n",
      " [-1.96797523e-03 -3.42275617e-03 -7.85628760e-04 -2.59736041e-03\n",
      "   7.15963508e-05]\n",
      " [-2.02458847e-03 -3.47504524e-03 -8.37868741e-04 -2.64772796e-03\n",
      "   2.19837157e-05]\n",
      " [-2.06945982e-03 -3.51648934e-03 -8.79273541e-04 -2.68764891e-03\n",
      "  -1.73384988e-05]\n",
      " [-2.10502357e-03 -3.54933679e-03 -9.12089597e-04 -2.71928904e-03\n",
      "  -4.85038532e-05]\n",
      " [-2.13320972e-03 -3.57537017e-03 -9.38097933e-04 -2.74436549e-03\n",
      "  -7.32038559e-05]\n",
      " [-2.15554833e-03 -3.59600264e-03 -9.58710460e-04 -2.76423952e-03\n",
      "  -9.27794370e-05]\n",
      " [-2.17325228e-03 -3.61235444e-03 -9.75046392e-04 -2.77999020e-03\n",
      "  -1.08293536e-04]\n",
      " [-2.18728298e-03 -3.62531354e-03 -9.87992877e-04 -2.79247289e-03\n",
      "  -1.20588688e-04]\n",
      " [-2.19840245e-03 -3.63558377e-03 -9.98253084e-04 -2.80236555e-03\n",
      "  -1.30332696e-04]\n",
      " [-2.20721469e-03 -3.64372298e-03 -1.00638433e-03 -2.81020552e-03\n",
      "  -1.38054850e-04]\n",
      " [-2.21419839e-03 -3.65017330e-03 -1.01282834e-03 -2.81641870e-03\n",
      "  -1.44174647e-04]\n",
      " [-2.21973295e-03 -3.65528517e-03 -1.01793520e-03 -2.82134262e-03\n",
      "  -1.49024559e-04]]\n"
     ]
    }
   ],
   "source": [
    "print(train_scores)\n",
    "print(test_scores)"
   ]
  },
  {
   "cell_type": "code",
   "execution_count": 96,
   "id": "9ebb6353",
   "metadata": {},
   "outputs": [],
   "source": [
    "## mean score of test and train score\n",
    "train_mean = np.mean(train_scores, axis = 1)"
   ]
  },
  {
   "cell_type": "code",
   "execution_count": 116,
   "id": "79c96d11",
   "metadata": {},
   "outputs": [
    {
     "data": {
      "text/plain": [
       "array([ 5.31796064e-01,  5.31796099e-01,  5.31796143e-01,  5.31796198e-01,\n",
       "        5.31796268e-01,  5.31796356e-01,  5.31796467e-01,  5.31796608e-01,\n",
       "        5.31796785e-01,  5.31797008e-01,  5.31797290e-01,  5.31797645e-01,\n",
       "        5.31798092e-01,  5.31798656e-01,  5.31799366e-01,  5.31800261e-01,\n",
       "        5.31801386e-01,  5.31802802e-01,  5.31804581e-01,  5.31806813e-01,\n",
       "        5.31809610e-01,  5.31813109e-01,  5.31817474e-01,  5.31822905e-01,\n",
       "        5.31829633e-01,  5.31837925e-01,  5.31848076e-01,  5.31860387e-01,\n",
       "        5.31875134e-01,  5.31892495e-01,  5.31912432e-01,  5.31934482e-01,\n",
       "        5.31957418e-01,  5.31978697e-01,  5.31993581e-01,  5.31993766e-01,\n",
       "        5.31965286e-01,  5.31885363e-01,  5.31717798e-01,  5.31406417e-01,\n",
       "        5.30866102e-01,  5.29971112e-01,  5.28540864e-01,  5.26324326e-01,\n",
       "        5.22985660e-01,  5.18095775e-01,  5.11136472e-01,  5.01524866e-01,\n",
       "        4.88664458e-01,  4.72024190e-01,  4.51238084e-01,  4.26207405e-01,\n",
       "        3.97178940e-01,  3.64772181e-01,  3.29938227e-01,  2.93852710e-01,\n",
       "        2.57766411e-01,  2.22850550e-01,  1.90072642e-01,  1.60124926e-01,\n",
       "        1.33408723e-01,  1.10063118e-01,  9.00195530e-02,  7.30646806e-02,\n",
       "        5.88988350e-02,  4.71833975e-02,  3.75751127e-02,  2.97483705e-02,\n",
       "        2.34078232e-02,  1.82939894e-02,  1.41842004e-02,  1.08907343e-02,\n",
       "        8.25745839e-03,  6.15586271e-03,  4.48102700e-03,  3.14783091e-03,\n",
       "        2.08755898e-03,  1.24495448e-03,  5.75719344e-04,  4.44264475e-05,\n",
       "       -3.77202888e-04, -7.11707351e-04, -9.77029373e-04, -1.18743900e-03,\n",
       "       -1.35427709e-03, -1.48655129e-03, -1.59141268e-03, -1.67453638e-03,\n",
       "       -1.74042484e-03, -1.79264934e-03, -1.83404202e-03, -1.86684857e-03,\n",
       "       -1.89284943e-03, -1.91345608e-03, -1.92978737e-03, -1.94273019e-03,\n",
       "       -1.95298751e-03, -1.96111647e-03, -1.96755868e-03, -1.97266410e-03])"
      ]
     },
     "execution_count": 116,
     "metadata": {},
     "output_type": "execute_result"
    }
   ],
   "source": [
    "train_mean\n",
    "test_mean"
   ]
  },
  {
   "cell_type": "code",
   "execution_count": 100,
   "id": "1a8af78d",
   "metadata": {},
   "outputs": [
    {
     "data": {
      "text/plain": [
       "0.5319937657612631"
      ]
     },
     "execution_count": 100,
     "metadata": {},
     "output_type": "execute_result"
    }
   ],
   "source": [
    "## highest r2 value\n",
    "max(test_mean)"
   ]
  },
  {
   "cell_type": "code",
   "execution_count": 102,
   "id": "9b71c055",
   "metadata": {},
   "outputs": [
    {
     "data": {
      "text/plain": [
       "<seaborn.axisgrid.JointGrid at 0x11d39a72a90>"
      ]
     },
     "execution_count": 102,
     "metadata": {},
     "output_type": "execute_result"
    },
    {
     "data": {
      "image/png": "[encoded data removed]",
      "text/plain": [
       "<Figure size 432x432 with 3 Axes>"
      ]
     },
     "metadata": {
      "needs_background": "light"
     },
     "output_type": "display_data"
    }
   ],
   "source": [
    "## visual representation to look r2 value \n",
    "sns.jointplot(x=np.log(param_range),y = test_mean)"
   ]
  },
  {
   "cell_type": "code",
   "execution_count": 104,
   "id": "900d3aec",
   "metadata": {},
   "outputs": [
    {
     "data": {
      "text/plain": [
       "(array([35], dtype=int64),)"
      ]
     },
     "execution_count": 104,
     "metadata": {},
     "output_type": "execute_result"
    }
   ],
   "source": [
    "## location of max-test-mean\n",
    "np.where(test_mean == max(test_mean))"
   ]
  },
  {
   "cell_type": "code",
   "execution_count": 191,
   "id": "9f643650",
   "metadata": {},
   "outputs": [
    {
     "data": {
      "text/plain": [
       "10.722672220103231"
      ]
     },
     "execution_count": 191,
     "metadata": {},
     "output_type": "execute_result"
    }
   ],
   "source": [
    "param_range[30]"
   ]
  },
  {
   "cell_type": "code",
   "execution_count": 105,
   "id": "683373ba",
   "metadata": {},
   "outputs": [],
   "source": [
    "## λ value of max_test_mean\n",
    "lm_r_best = Ridge(alpha = param_range[30])"
   ]
  },
  {
   "cell_type": "code",
   "execution_count": 106,
   "id": "94aedb19",
   "metadata": {},
   "outputs": [
    {
     "data": {
      "text/plain": [
       "Ridge(alpha=10.722672220103231)"
      ]
     },
     "execution_count": 106,
     "metadata": {},
     "output_type": "execute_result"
    }
   ],
   "source": [
    "lm_r_best.fit(X_train_s,y_train)"
   ]
  },
  {
   "cell_type": "code",
   "execution_count": 125,
   "id": "d3137fc1",
   "metadata": {},
   "outputs": [],
   "source": [
    "y_pred_best = lm_r.predict(X_test_s)"
   ]
  },
  {
   "cell_type": "code",
   "execution_count": 126,
   "id": "d554a7f6",
   "metadata": {},
   "outputs": [
    {
     "data": {
      "text/plain": [
       "0.4958925604139547"
      ]
     },
     "execution_count": 126,
     "metadata": {},
     "output_type": "execute_result"
    }
   ],
   "source": [
    "r2_score(y_test,y_pred_best)"
   ]
  },
  {
   "cell_type": "markdown",
   "id": "05a91f62",
   "metadata": {},
   "source": [
    "## 6. Lasso Regressor"
   ]
  },
  {
   "cell_type": "code",
   "execution_count": 196,
   "id": "526693dc",
   "metadata": {},
   "outputs": [],
   "source": [
    "lm_s = Lasso(alpha = 0.5)"
   ]
  },
  {
   "cell_type": "code",
   "execution_count": 197,
   "id": "7133098a",
   "metadata": {},
   "outputs": [
    {
     "data": {
      "text/plain": [
       "Lasso(alpha=0.5)"
      ]
     },
     "execution_count": 197,
     "metadata": {},
     "output_type": "execute_result"
    }
   ],
   "source": [
    "lm_s.fit(X_train_s,y_train)"
   ]
  },
  {
   "cell_type": "code",
   "execution_count": 198,
   "id": "7849a7bf",
   "metadata": {},
   "outputs": [],
   "source": [
    "y_pred = lm_s.predict(X_test_s)"
   ]
  },
  {
   "cell_type": "code",
   "execution_count": 199,
   "id": "7af4ccd8",
   "metadata": {},
   "outputs": [],
   "source": [
    "mse = mean_squared_error(y_test, y_pred)\n",
    "r2 = r2_score(y_test, y_pred)"
   ]
  },
  {
   "cell_type": "code",
   "execution_count": 200,
   "id": "48a0215d",
   "metadata": {},
   "outputs": [
    {
     "name": "stdout",
     "output_type": "stream",
     "text": [
      "Mean Squared Error =  68908896.5345529 \n",
      "R2 Score = 0.5356055546226256\n"
     ]
    }
   ],
   "source": [
    "print(\"Mean Squared Error = \",mse,\n",
    "      \"\\nR2 Score =\",r2)"
   ]
  },
  {
   "cell_type": "markdown",
   "id": "6c443873",
   "metadata": {},
   "source": [
    "### Changing Hyperparameters"
   ]
  },
  {
   "cell_type": "code",
   "execution_count": 109,
   "id": "704e7944",
   "metadata": {},
   "outputs": [],
   "source": [
    "## creating array for λ value\n",
    "param_range = np.logspace(-2,8,100)"
   ]
  },
  {
   "cell_type": "code",
   "execution_count": 110,
   "id": "f885a215",
   "metadata": {},
   "outputs": [],
   "source": [
    "## run iteration for our model\n",
    "train_scores, test_scores = validation_curve(\n",
    "  Lasso(),\n",
    "  X_train_s, \n",
    "  y_train,\n",
    "  param_name =\"alpha\",\n",
    "  param_range = param_range,\n",
    "  scoring = \"r2\"\n",
    ")"
   ]
  },
  {
   "cell_type": "code",
   "execution_count": 111,
   "id": "3692b3a7",
   "metadata": {},
   "outputs": [
    {
     "name": "stdout",
     "output_type": "stream",
     "text": [
      "[[0.54292924 0.55491429 0.54019553 0.56115791 0.51722729]\n",
      " [0.54292924 0.55491429 0.54019553 0.56115791 0.51722729]\n",
      " [0.54292924 0.55491429 0.54019553 0.56115791 0.51722729]\n",
      " [0.54292924 0.55491429 0.54019553 0.56115791 0.51722729]\n",
      " [0.54292924 0.55491429 0.54019553 0.56115791 0.51722729]\n",
      " [0.54292924 0.55491429 0.54019553 0.56115791 0.51722729]\n",
      " [0.54292924 0.55491429 0.54019553 0.56115791 0.51722729]\n",
      " [0.54292924 0.55491429 0.54019553 0.56115791 0.51722729]\n",
      " [0.54292924 0.55491429 0.54019553 0.56115791 0.51722729]\n",
      " [0.54292924 0.55491429 0.54019553 0.56115791 0.51722729]\n",
      " [0.54292924 0.55491429 0.54019553 0.56115791 0.51722729]\n",
      " [0.54292924 0.55491429 0.54019553 0.56115791 0.51722729]\n",
      " [0.54292924 0.55491429 0.54019553 0.56115791 0.51722729]\n",
      " [0.54292924 0.55491429 0.54019553 0.56115791 0.51722728]\n",
      " [0.54292923 0.55491429 0.54019552 0.56115791 0.51722728]\n",
      " [0.54292923 0.55491428 0.54019552 0.56115791 0.51722728]\n",
      " [0.54292923 0.55491428 0.54019552 0.56115791 0.51722728]\n",
      " [0.54292923 0.55491428 0.54019551 0.5611579  0.51722727]\n",
      " [0.54292922 0.55491427 0.54019551 0.56115789 0.51722727]\n",
      " [0.54292921 0.55491426 0.5401955  0.56115788 0.51722726]\n",
      " [0.54292919 0.55491424 0.54019548 0.56115787 0.51722724]\n",
      " [0.54292917 0.55491422 0.54019545 0.56115784 0.51722721]\n",
      " [0.54292912 0.55491417 0.5401954  0.56115779 0.51722716]\n",
      " [0.54292906 0.55491411 0.54019533 0.56115772 0.51722708]\n",
      " [0.54292895 0.554914   0.54019521 0.56115761 0.51722696]\n",
      " [0.54292878 0.55491383 0.54019502 0.56115743 0.51722677]\n",
      " [0.5429285  0.55491355 0.54019472 0.56115714 0.51722647]\n",
      " [0.54292807 0.55491311 0.54019425 0.56115668 0.51722599]\n",
      " [0.54292738 0.55491242 0.54019349 0.56115595 0.51722522]\n",
      " [0.54292628 0.55491131 0.54019228 0.56115479 0.51722399]\n",
      " [0.54292453 0.55490955 0.54019036 0.56115294 0.51722204]\n",
      " [0.54292174 0.55490674 0.5401873  0.56115    0.51721894]\n",
      " [0.5429173  0.55490226 0.54018242 0.56114531 0.51721399]\n",
      " [0.54291023 0.55489514 0.54017466 0.56113785 0.51720612]\n",
      " [0.54289897 0.5548838  0.5401623  0.56112597 0.51719358]\n",
      " [0.54288104 0.55486574 0.54014262 0.56110705 0.51717362]\n",
      " [0.5428525  0.55483699 0.54011128 0.56107692 0.51714183]\n",
      " [0.54280705 0.5547912  0.54006138 0.56103598 0.51709122]\n",
      " [0.54273467 0.5547183  0.53999022 0.56097982 0.51701063]\n",
      " [0.54261944 0.55460222 0.53988392 0.56089426 0.51688231]\n",
      " [0.54243595 0.55441739 0.53971468 0.56075801 0.51667799]\n",
      " [0.54214378 0.55412308 0.53944518 0.56054106 0.51635265]\n",
      " [0.54174958 0.55365446 0.53903044 0.56023483 0.51589974]\n",
      " [0.54114976 0.55298084 0.53847992 0.55978893 0.51523118]\n",
      " [0.54032184 0.55218237 0.53768832 0.55907892 0.51416664]\n",
      " [0.53928823 0.55091097 0.53656811 0.5579484  0.51265308]\n",
      " [0.53764243 0.54945604 0.5347844  0.55614827 0.51066288]\n",
      " [0.53502184 0.54752469 0.53194425 0.5540078  0.50775078]\n",
      " [0.53084911 0.54444942 0.52786089 0.55066695 0.50419078]\n",
      " [0.5255572  0.53955273 0.52255371 0.54534739 0.49874761]\n",
      " [0.51788102 0.5317558  0.51410317 0.53687713 0.49008053]\n",
      " [0.50565837 0.51934089 0.50064752 0.52339008 0.47628008]\n",
      " [0.48619643 0.49957282 0.47922232 0.50191487 0.45430586]\n",
      " [0.45520751 0.46809647 0.44510734 0.46772028 0.41931667]\n",
      " [0.40586436 0.41797721 0.39078664 0.4132728  0.36360399]\n",
      " [0.33917569 0.344359   0.32109309 0.34052609 0.31281251]\n",
      " [0.27445977 0.28175232 0.2568155  0.27615675 0.2637795 ]\n",
      " [0.20112095 0.20802244 0.17801917 0.19830939 0.18570508]\n",
      " [0.08434481 0.09062362 0.05255313 0.07435438 0.06138852]\n",
      " [0.         0.         0.         0.         0.        ]\n",
      " [0.         0.         0.         0.         0.        ]\n",
      " [0.         0.         0.         0.         0.        ]\n",
      " [0.         0.         0.         0.         0.        ]\n",
      " [0.         0.         0.         0.         0.        ]\n",
      " [0.         0.         0.         0.         0.        ]\n",
      " [0.         0.         0.         0.         0.        ]\n",
      " [0.         0.         0.         0.         0.        ]\n",
      " [0.         0.         0.         0.         0.        ]\n",
      " [0.         0.         0.         0.         0.        ]\n",
      " [0.         0.         0.         0.         0.        ]\n",
      " [0.         0.         0.         0.         0.        ]\n",
      " [0.         0.         0.         0.         0.        ]\n",
      " [0.         0.         0.         0.         0.        ]\n",
      " [0.         0.         0.         0.         0.        ]\n",
      " [0.         0.         0.         0.         0.        ]\n",
      " [0.         0.         0.         0.         0.        ]\n",
      " [0.         0.         0.         0.         0.        ]\n",
      " [0.         0.         0.         0.         0.        ]\n",
      " [0.         0.         0.         0.         0.        ]\n",
      " [0.         0.         0.         0.         0.        ]\n",
      " [0.         0.         0.         0.         0.        ]\n",
      " [0.         0.         0.         0.         0.        ]\n",
      " [0.         0.         0.         0.         0.        ]\n",
      " [0.         0.         0.         0.         0.        ]\n",
      " [0.         0.         0.         0.         0.        ]\n",
      " [0.         0.         0.         0.         0.        ]\n",
      " [0.         0.         0.         0.         0.        ]\n",
      " [0.         0.         0.         0.         0.        ]\n",
      " [0.         0.         0.         0.         0.        ]\n",
      " [0.         0.         0.         0.         0.        ]\n",
      " [0.         0.         0.         0.         0.        ]\n",
      " [0.         0.         0.         0.         0.        ]\n",
      " [0.         0.         0.         0.         0.        ]\n",
      " [0.         0.         0.         0.         0.        ]\n",
      " [0.         0.         0.         0.         0.        ]\n",
      " [0.         0.         0.         0.         0.        ]\n",
      " [0.         0.         0.         0.         0.        ]\n",
      " [0.         0.         0.         0.         0.        ]\n",
      " [0.         0.         0.         0.         0.        ]\n",
      " [0.         0.         0.         0.         0.        ]]\n",
      "[[ 5.38185456e-01  4.82310172e-01  5.51099160e-01  4.66053236e-01\n",
      "   6.21332052e-01]\n",
      " [ 5.38185526e-01  4.82310221e-01  5.51099164e-01  4.66053294e-01\n",
      "   6.21331983e-01]\n",
      " [ 5.38185613e-01  4.82310282e-01  5.51099169e-01  4.66053368e-01\n",
      "   6.21331897e-01]\n",
      " [ 5.38185723e-01  4.82310360e-01  5.51099175e-01  4.66053462e-01\n",
      "   6.21331788e-01]\n",
      " [ 5.38185862e-01  4.82310458e-01  5.51099182e-01  4.66053580e-01\n",
      "   6.21331650e-01]\n",
      " [ 5.38186036e-01  4.82310582e-01  5.51099190e-01  4.66053728e-01\n",
      "   6.21331476e-01]\n",
      " [ 5.38186257e-01  4.82310738e-01  5.51099202e-01  4.66053916e-01\n",
      "   6.21331257e-01]\n",
      " [ 5.38186535e-01  4.82310954e-01  5.51099217e-01  4.66054153e-01\n",
      "   6.21330980e-01]\n",
      " [ 5.38186887e-01  4.82311203e-01  5.51099237e-01  4.66054451e-01\n",
      "   6.21330631e-01]\n",
      " [ 5.38187330e-01  4.82311516e-01  5.51099261e-01  4.66054828e-01\n",
      "   6.21330191e-01]\n",
      " [ 5.38187889e-01  4.82311912e-01  5.51099292e-01  4.66055304e-01\n",
      "   6.21329635e-01]\n",
      " [ 5.38188594e-01  4.82312410e-01  5.51099330e-01  4.66055904e-01\n",
      "   6.21328934e-01]\n",
      " [ 5.38189484e-01  4.82313040e-01  5.51099379e-01  4.66056662e-01\n",
      "   6.21328061e-01]\n",
      " [ 5.38190607e-01  4.82313834e-01  5.51099440e-01  4.66057617e-01\n",
      "   6.21326944e-01]\n",
      " [ 5.38192060e-01  4.82314836e-01  5.51099517e-01  4.66058822e-01\n",
      "   6.21325534e-01]\n",
      " [ 5.38193848e-01  4.82316099e-01  5.51099614e-01  4.66060343e-01\n",
      "   6.21323754e-01]\n",
      " [ 5.38196103e-01  4.82317694e-01  5.51099735e-01  4.66062261e-01\n",
      "   6.21321508e-01]\n",
      " [ 5.38198947e-01  4.82319704e-01  5.51099888e-01  4.66064680e-01\n",
      "   6.21318673e-01]\n",
      " [ 5.38202535e-01  4.82322240e-01  5.51100079e-01  4.66067732e-01\n",
      "   6.21315094e-01]\n",
      " [ 5.38207060e-01  4.82325438e-01  5.51100317e-01  4.66071580e-01\n",
      "   6.21310576e-01]\n",
      " [ 5.38212766e-01  4.82329469e-01  5.51100613e-01  4.66076432e-01\n",
      "   6.21304871e-01]\n",
      " [ 5.38219960e-01  4.82334550e-01  5.51100982e-01  4.66082549e-01\n",
      "   6.21297667e-01]\n",
      " [ 5.38229027e-01  4.82340952e-01  5.51101436e-01  4.66090257e-01\n",
      "   6.21288567e-01]\n",
      " [ 5.38240454e-01  4.82349017e-01  5.51101994e-01  4.66099968e-01\n",
      "   6.21277069e-01]\n",
      " [ 5.38254847e-01  4.82359170e-01  5.51102672e-01  4.66112198e-01\n",
      "   6.21262537e-01]\n",
      " [ 5.38272970e-01  4.82371945e-01  5.51103488e-01  4.66127590e-01\n",
      "   6.21244164e-01]\n",
      " [ 5.38295775e-01  4.82388007e-01  5.51104453e-01  4.66146951e-01\n",
      "   6.21220920e-01]\n",
      " [ 5.38324450e-01  4.82408182e-01  5.51105570e-01  4.66171282e-01\n",
      "   6.21191497e-01]\n",
      " [ 5.38360474e-01  4.82433491e-01  5.51106816e-01  4.66201826e-01\n",
      "   6.21154220e-01]\n",
      " [ 5.38405675e-01  4.82465192e-01  5.51108130e-01  4.66240116e-01\n",
      "   6.21106945e-01]\n",
      " [ 5.38462304e-01  4.82504817e-01  5.51109376e-01  4.66288030e-01\n",
      "   6.21046913e-01]\n",
      " [ 5.38533112e-01  4.82554219e-01  5.51110293e-01  4.66347850e-01\n",
      "   6.20970561e-01]\n",
      " [ 5.38621429e-01  4.82615604e-01  5.51110407e-01  4.66422316e-01\n",
      "   6.20873260e-01]\n",
      " [ 5.38731227e-01  4.82691544e-01  5.51108888e-01  4.66514658e-01\n",
      "   6.20748956e-01]\n",
      " [ 5.38867156e-01  4.82784952e-01  5.51104326e-01  4.66628596e-01\n",
      "   6.20589679e-01]\n",
      " [ 5.39034506e-01  4.82898969e-01  5.51094355e-01  4.66768256e-01\n",
      "   6.20384832e-01]\n",
      " [ 5.39239035e-01  4.83036712e-01  5.51075064e-01  4.66937938e-01\n",
      "   6.20120198e-01]\n",
      " [ 5.39486542e-01  4.83200762e-01  5.51040039e-01  4.67212521e-01\n",
      "   6.19776478e-01]\n",
      " [ 5.39782018e-01  4.83392226e-01  5.51026613e-01  4.67393174e-01\n",
      "   6.19327167e-01]\n",
      " [ 5.40128045e-01  4.83609077e-01  5.51021310e-01  4.67543313e-01\n",
      "   6.18735383e-01]\n",
      " [ 5.40521978e-01  4.83843305e-01  5.50976585e-01  4.67701564e-01\n",
      "   6.17949121e-01]\n",
      " [ 5.40951064e-01  4.84076119e-01  5.50859498e-01  4.67851668e-01\n",
      "   6.16894049e-01]\n",
      " [ 5.41427685e-01  4.84269983e-01  5.50630973e-01  4.68139885e-01\n",
      "   6.15490572e-01]\n",
      " [ 5.41955489e-01  4.84348735e-01  5.50317069e-01  4.68566074e-01\n",
      "   6.13618416e-01]\n",
      " [ 5.42637711e-01  4.84071901e-01  5.49849525e-01  4.68942574e-01\n",
      "   6.11074410e-01]\n",
      " [ 5.43012535e-01  4.83465891e-01  5.49185300e-01  4.69160842e-01\n",
      "   6.07391864e-01]\n",
      " [ 5.43102515e-01  4.83649559e-01  5.47988551e-01  4.69027336e-01\n",
      "   6.02047370e-01]\n",
      " [ 5.42606222e-01  4.83595053e-01  5.45907448e-01  4.69657009e-01\n",
      "   5.94615393e-01]\n",
      " [ 5.41008953e-01  4.82887277e-01  5.42503500e-01  4.69817021e-01\n",
      "   5.85188523e-01]\n",
      " [ 5.37167014e-01  4.80976701e-01  5.37336054e-01  4.68829274e-01\n",
      "   5.72376183e-01]\n",
      " [ 5.30417134e-01  4.76945738e-01  5.29089968e-01  4.65688603e-01\n",
      "   5.54532177e-01]\n",
      " [ 5.19250632e-01  4.69279598e-01  5.15937091e-01  4.58709306e-01\n",
      "   5.29345866e-01]\n",
      " [ 5.00941957e-01  4.55498507e-01  4.94965250e-01  4.45099754e-01\n",
      "   4.93313381e-01]\n",
      " [ 4.71122546e-01  4.31568411e-01  4.61535881e-01  4.20279229e-01\n",
      "   4.41076802e-01]\n",
      " [ 4.22800175e-01  3.90957998e-01  4.08261108e-01  3.76782742e-01\n",
      "   3.64383969e-01]\n",
      " [ 3.58529868e-01  3.27746262e-01  3.40462453e-01  3.15467805e-01\n",
      "   3.00302514e-01]\n",
      " [ 2.94601356e-01  2.70415526e-01  2.73630736e-01  2.58249325e-01\n",
      "   2.49792789e-01]\n",
      " [ 2.17244649e-01  2.00715649e-01  1.88112304e-01  1.85843673e-01\n",
      "   1.73253127e-01]\n",
      " [ 9.06626151e-02  8.62857487e-02  5.44210537e-02  6.83704572e-02\n",
      "   5.62840450e-02]\n",
      " [-2.24086955e-03 -3.67480749e-03 -1.03743833e-03 -2.84014718e-03\n",
      "  -1.67546414e-04]\n",
      " [-2.24086955e-03 -3.67480749e-03 -1.03743833e-03 -2.84014718e-03\n",
      "  -1.67546414e-04]\n",
      " [-2.24086955e-03 -3.67480749e-03 -1.03743833e-03 -2.84014718e-03\n",
      "  -1.67546414e-04]\n",
      " [-2.24086955e-03 -3.67480749e-03 -1.03743833e-03 -2.84014718e-03\n",
      "  -1.67546414e-04]\n",
      " [-2.24086955e-03 -3.67480749e-03 -1.03743833e-03 -2.84014718e-03\n",
      "  -1.67546414e-04]\n",
      " [-2.24086955e-03 -3.67480749e-03 -1.03743833e-03 -2.84014718e-03\n",
      "  -1.67546414e-04]\n",
      " [-2.24086955e-03 -3.67480749e-03 -1.03743833e-03 -2.84014718e-03\n",
      "  -1.67546414e-04]\n",
      " [-2.24086955e-03 -3.67480749e-03 -1.03743833e-03 -2.84014718e-03\n",
      "  -1.67546414e-04]\n",
      " [-2.24086955e-03 -3.67480749e-03 -1.03743833e-03 -2.84014718e-03\n",
      "  -1.67546414e-04]\n",
      " [-2.24086955e-03 -3.67480749e-03 -1.03743833e-03 -2.84014718e-03\n",
      "  -1.67546414e-04]\n",
      " [-2.24086955e-03 -3.67480749e-03 -1.03743833e-03 -2.84014718e-03\n",
      "  -1.67546414e-04]\n",
      " [-2.24086955e-03 -3.67480749e-03 -1.03743833e-03 -2.84014718e-03\n",
      "  -1.67546414e-04]\n",
      " [-2.24086955e-03 -3.67480749e-03 -1.03743833e-03 -2.84014718e-03\n",
      "  -1.67546414e-04]\n",
      " [-2.24086955e-03 -3.67480749e-03 -1.03743833e-03 -2.84014718e-03\n",
      "  -1.67546414e-04]\n",
      " [-2.24086955e-03 -3.67480749e-03 -1.03743833e-03 -2.84014718e-03\n",
      "  -1.67546414e-04]\n",
      " [-2.24086955e-03 -3.67480749e-03 -1.03743833e-03 -2.84014718e-03\n",
      "  -1.67546414e-04]\n",
      " [-2.24086955e-03 -3.67480749e-03 -1.03743833e-03 -2.84014718e-03\n",
      "  -1.67546414e-04]\n",
      " [-2.24086955e-03 -3.67480749e-03 -1.03743833e-03 -2.84014718e-03\n",
      "  -1.67546414e-04]\n",
      " [-2.24086955e-03 -3.67480749e-03 -1.03743833e-03 -2.84014718e-03\n",
      "  -1.67546414e-04]\n",
      " [-2.24086955e-03 -3.67480749e-03 -1.03743833e-03 -2.84014718e-03\n",
      "  -1.67546414e-04]\n",
      " [-2.24086955e-03 -3.67480749e-03 -1.03743833e-03 -2.84014718e-03\n",
      "  -1.67546414e-04]\n",
      " [-2.24086955e-03 -3.67480749e-03 -1.03743833e-03 -2.84014718e-03\n",
      "  -1.67546414e-04]\n",
      " [-2.24086955e-03 -3.67480749e-03 -1.03743833e-03 -2.84014718e-03\n",
      "  -1.67546414e-04]\n",
      " [-2.24086955e-03 -3.67480749e-03 -1.03743833e-03 -2.84014718e-03\n",
      "  -1.67546414e-04]\n",
      " [-2.24086955e-03 -3.67480749e-03 -1.03743833e-03 -2.84014718e-03\n",
      "  -1.67546414e-04]\n",
      " [-2.24086955e-03 -3.67480749e-03 -1.03743833e-03 -2.84014718e-03\n",
      "  -1.67546414e-04]\n",
      " [-2.24086955e-03 -3.67480749e-03 -1.03743833e-03 -2.84014718e-03\n",
      "  -1.67546414e-04]\n",
      " [-2.24086955e-03 -3.67480749e-03 -1.03743833e-03 -2.84014718e-03\n",
      "  -1.67546414e-04]\n",
      " [-2.24086955e-03 -3.67480749e-03 -1.03743833e-03 -2.84014718e-03\n",
      "  -1.67546414e-04]\n",
      " [-2.24086955e-03 -3.67480749e-03 -1.03743833e-03 -2.84014718e-03\n",
      "  -1.67546414e-04]\n",
      " [-2.24086955e-03 -3.67480749e-03 -1.03743833e-03 -2.84014718e-03\n",
      "  -1.67546414e-04]\n",
      " [-2.24086955e-03 -3.67480749e-03 -1.03743833e-03 -2.84014718e-03\n",
      "  -1.67546414e-04]\n",
      " [-2.24086955e-03 -3.67480749e-03 -1.03743833e-03 -2.84014718e-03\n",
      "  -1.67546414e-04]\n",
      " [-2.24086955e-03 -3.67480749e-03 -1.03743833e-03 -2.84014718e-03\n",
      "  -1.67546414e-04]\n",
      " [-2.24086955e-03 -3.67480749e-03 -1.03743833e-03 -2.84014718e-03\n",
      "  -1.67546414e-04]\n",
      " [-2.24086955e-03 -3.67480749e-03 -1.03743833e-03 -2.84014718e-03\n",
      "  -1.67546414e-04]\n",
      " [-2.24086955e-03 -3.67480749e-03 -1.03743833e-03 -2.84014718e-03\n",
      "  -1.67546414e-04]\n",
      " [-2.24086955e-03 -3.67480749e-03 -1.03743833e-03 -2.84014718e-03\n",
      "  -1.67546414e-04]\n",
      " [-2.24086955e-03 -3.67480749e-03 -1.03743833e-03 -2.84014718e-03\n",
      "  -1.67546414e-04]\n",
      " [-2.24086955e-03 -3.67480749e-03 -1.03743833e-03 -2.84014718e-03\n",
      "  -1.67546414e-04]\n",
      " [-2.24086955e-03 -3.67480749e-03 -1.03743833e-03 -2.84014718e-03\n",
      "  -1.67546414e-04]]\n"
     ]
    }
   ],
   "source": [
    "print(train_scores)\n",
    "print(test_scores)"
   ]
  },
  {
   "cell_type": "code",
   "execution_count": 114,
   "id": "07919af0",
   "metadata": {},
   "outputs": [],
   "source": [
    "## mean score of test and train score\n",
    "train_mean = np.mean(train_scores, axis = 1)"
   ]
  },
  {
   "cell_type": "code",
   "execution_count": 115,
   "id": "6303708b",
   "metadata": {},
   "outputs": [
    {
     "data": {
      "text/plain": [
       "array([ 5.31796064e-01,  5.31796099e-01,  5.31796143e-01,  5.31796198e-01,\n",
       "        5.31796268e-01,  5.31796356e-01,  5.31796467e-01,  5.31796608e-01,\n",
       "        5.31796785e-01,  5.31797008e-01,  5.31797290e-01,  5.31797645e-01,\n",
       "        5.31798092e-01,  5.31798656e-01,  5.31799366e-01,  5.31800261e-01,\n",
       "        5.31801386e-01,  5.31802802e-01,  5.31804581e-01,  5.31806813e-01,\n",
       "        5.31809610e-01,  5.31813109e-01,  5.31817474e-01,  5.31822905e-01,\n",
       "        5.31829633e-01,  5.31837925e-01,  5.31848076e-01,  5.31860387e-01,\n",
       "        5.31875134e-01,  5.31892495e-01,  5.31912432e-01,  5.31934482e-01,\n",
       "        5.31957418e-01,  5.31978697e-01,  5.31993581e-01,  5.31993766e-01,\n",
       "        5.31965286e-01,  5.31885363e-01,  5.31717798e-01,  5.31406417e-01,\n",
       "        5.30866102e-01,  5.29971112e-01,  5.28540864e-01,  5.26324326e-01,\n",
       "        5.22985660e-01,  5.18095775e-01,  5.11136472e-01,  5.01524866e-01,\n",
       "        4.88664458e-01,  4.72024190e-01,  4.51238084e-01,  4.26207405e-01,\n",
       "        3.97178940e-01,  3.64772181e-01,  3.29938227e-01,  2.93852710e-01,\n",
       "        2.57766411e-01,  2.22850550e-01,  1.90072642e-01,  1.60124926e-01,\n",
       "        1.33408723e-01,  1.10063118e-01,  9.00195530e-02,  7.30646806e-02,\n",
       "        5.88988350e-02,  4.71833975e-02,  3.75751127e-02,  2.97483705e-02,\n",
       "        2.34078232e-02,  1.82939894e-02,  1.41842004e-02,  1.08907343e-02,\n",
       "        8.25745839e-03,  6.15586271e-03,  4.48102700e-03,  3.14783091e-03,\n",
       "        2.08755898e-03,  1.24495448e-03,  5.75719344e-04,  4.44264475e-05,\n",
       "       -3.77202888e-04, -7.11707351e-04, -9.77029373e-04, -1.18743900e-03,\n",
       "       -1.35427709e-03, -1.48655129e-03, -1.59141268e-03, -1.67453638e-03,\n",
       "       -1.74042484e-03, -1.79264934e-03, -1.83404202e-03, -1.86684857e-03,\n",
       "       -1.89284943e-03, -1.91345608e-03, -1.92978737e-03, -1.94273019e-03,\n",
       "       -1.95298751e-03, -1.96111647e-03, -1.96755868e-03, -1.97266410e-03])"
      ]
     },
     "execution_count": 115,
     "metadata": {},
     "output_type": "execute_result"
    }
   ],
   "source": [
    "train_mean\n",
    "test_mean"
   ]
  },
  {
   "cell_type": "code",
   "execution_count": 117,
   "id": "3baa94d7",
   "metadata": {},
   "outputs": [
    {
     "data": {
      "text/plain": [
       "0.5319937657612631"
      ]
     },
     "execution_count": 117,
     "metadata": {},
     "output_type": "execute_result"
    }
   ],
   "source": [
    "## ## highest r2 value\n",
    "max(test_mean)"
   ]
  },
  {
   "cell_type": "code",
   "execution_count": 118,
   "id": "bdc8dfb3",
   "metadata": {},
   "outputs": [
    {
     "data": {
      "text/plain": [
       "<seaborn.axisgrid.JointGrid at 0x11d2bffc550>"
      ]
     },
     "execution_count": 118,
     "metadata": {},
     "output_type": "execute_result"
    },
    {
     "data": {
      "image/png": "[encoded data removed]",
      "text/plain": [
       "<Figure size 432x432 with 3 Axes>"
      ]
     },
     "metadata": {
      "needs_background": "light"
     },
     "output_type": "display_data"
    }
   ],
   "source": [
    "## visual representation to look r2 value \n",
    "sns.jointplot(x=np.log(param_range),y = test_mean)"
   ]
  },
  {
   "cell_type": "code",
   "execution_count": 119,
   "id": "0dfa36f6",
   "metadata": {},
   "outputs": [
    {
     "data": {
      "text/plain": [
       "(array([35], dtype=int64),)"
      ]
     },
     "execution_count": 119,
     "metadata": {},
     "output_type": "execute_result"
    }
   ],
   "source": [
    "## location of max-test-mean\n",
    "np.where(test_mean == max(test_mean))"
   ]
  },
  {
   "cell_type": "code",
   "execution_count": 208,
   "id": "f33e6846",
   "metadata": {},
   "outputs": [
    {
     "data": {
      "text/plain": [
       "43.28761281083057"
      ]
     },
     "execution_count": 208,
     "metadata": {},
     "output_type": "execute_result"
    }
   ],
   "source": [
    "param_range[36]"
   ]
  },
  {
   "cell_type": "code",
   "execution_count": 121,
   "id": "6954bd1e",
   "metadata": {},
   "outputs": [],
   "source": [
    "## λ value of max_test_mean\n",
    "lm_s_best = Lasso(alpha = param_range[36])"
   ]
  },
  {
   "cell_type": "code",
   "execution_count": 122,
   "id": "5d47ed02",
   "metadata": {},
   "outputs": [
    {
     "data": {
      "text/plain": [
       "Lasso(alpha=43.28761281083057)"
      ]
     },
     "execution_count": 122,
     "metadata": {},
     "output_type": "execute_result"
    }
   ],
   "source": [
    "lm_s_best.fit(X_train_s,y_train)"
   ]
  },
  {
   "cell_type": "code",
   "execution_count": 129,
   "id": "169a813f",
   "metadata": {},
   "outputs": [],
   "source": [
    "y_pred_best = lm_s_best.predict(X_test_s)"
   ]
  },
  {
   "cell_type": "code",
   "execution_count": 130,
   "id": "4ec69ff9",
   "metadata": {},
   "outputs": [
    {
     "data": {
      "text/plain": [
       "0.4966365316641802"
      ]
     },
     "execution_count": 130,
     "metadata": {},
     "output_type": "execute_result"
    }
   ],
   "source": [
    "r2_score(y_test,y_pred_best)"
   ]
  },
  {
   "cell_type": "markdown",
   "id": "a72a14a7",
   "metadata": {},
   "source": [
    "## 7. Gradient Boosting Machine"
   ]
  },
  {
   "cell_type": "code",
   "execution_count": 131,
   "id": "1e3a55b9",
   "metadata": {},
   "outputs": [],
   "source": [
    "model = GradientBoostingRegressor(n_estimators = 250, learning_rate = 0.1, max_depth = 4, random_state = 42)"
   ]
  },
  {
   "cell_type": "code",
   "execution_count": 132,
   "id": "47ccd01b",
   "metadata": {},
   "outputs": [
    {
     "data": {
      "text/plain": [
       "GradientBoostingRegressor(max_depth=4, n_estimators=250, random_state=42)"
      ]
     },
     "execution_count": 132,
     "metadata": {},
     "output_type": "execute_result"
    }
   ],
   "source": [
    "model.fit(X_train, y_train)"
   ]
  },
  {
   "cell_type": "code",
   "execution_count": 133,
   "id": "b6cd8a94",
   "metadata": {},
   "outputs": [],
   "source": [
    "pred = model.predict(X_test)"
   ]
  },
  {
   "cell_type": "code",
   "execution_count": 134,
   "id": "db52c293",
   "metadata": {},
   "outputs": [],
   "source": [
    "mse = mean_squared_error(y_test, pred)\n",
    "r2 = r2_score(y_test,pred)"
   ]
  },
  {
   "cell_type": "code",
   "execution_count": 135,
   "id": "f456c16f",
   "metadata": {},
   "outputs": [
    {
     "name": "stdout",
     "output_type": "stream",
     "text": [
      "Mean Squared Error =  57160448.59851348 \n",
      "R2 Score = 0.6254768212048424\n"
     ]
    }
   ],
   "source": [
    "print(\"Mean Squared Error = \",mse,\n",
    "      \"\\nR2 Score =\",r2)"
   ]
  },
  {
   "cell_type": "markdown",
   "id": "02c68c94",
   "metadata": {},
   "source": [
    "# Finding Best Parameter for model"
   ]
  },
  {
   "cell_type": "code",
   "execution_count": 136,
   "id": "b22efffe",
   "metadata": {},
   "outputs": [],
   "source": [
    "params_grid = {\"max_features\": [4,5,6,7,8,9,10],\n",
    "              \"min_samples_split\": [2,3,10]}"
   ]
  },
  {
   "cell_type": "code",
   "execution_count": 145,
   "id": "b2378d14",
   "metadata": {},
   "outputs": [],
   "source": [
    "rnd=RandomForestRegressor()"
   ]
  },
  {
   "cell_type": "code",
   "execution_count": 149,
   "id": "2ec586b4",
   "metadata": {},
   "outputs": [],
   "source": [
    "rnd_tuned = RandomForestRegressor(n_jobs=-1, max_features=5, min_samples_split=3)"
   ]
  },
  {
   "cell_type": "code",
   "execution_count": 151,
   "id": "cf4416d5",
   "metadata": {},
   "outputs": [
    {
     "data": {
      "text/plain": [
       "RandomForestRegressor(max_features=5, min_samples_split=3, n_jobs=-1)"
      ]
     },
     "execution_count": 151,
     "metadata": {},
     "output_type": "execute_result"
    }
   ],
   "source": [
    "rnd_tuned.fit(X_train, y_train)\n"
   ]
  },
  {
   "cell_type": "code",
   "execution_count": 152,
   "id": "2407e949",
   "metadata": {},
   "outputs": [],
   "source": [
    "rnd_tuned_pred = rnd_tuned.predict(X_test)"
   ]
  },
  {
   "cell_type": "code",
   "execution_count": 153,
   "id": "58a31161",
   "metadata": {},
   "outputs": [
    {
     "name": "stdout",
     "output_type": "stream",
     "text": [
      "r2_score: 0.6329598124030402\n"
     ]
    }
   ],
   "source": [
    "print(\"r2_score:\",r2_score(y_test, rnd_tuned_pred))"
   ]
  },
  {
   "cell_type": "code",
   "execution_count": 155,
   "id": "205255f4",
   "metadata": {},
   "outputs": [
    {
     "name": "stdout",
     "output_type": "stream",
     "text": [
      "MSE: 56018380.075214796\n"
     ]
    }
   ],
   "source": [
    "print(\"MSE:\", mean_squared_error(y_test, rnd_tuned_pred))"
   ]
  },
  {
   "cell_type": "code",
   "execution_count": 156,
   "id": "9de412ed",
   "metadata": {},
   "outputs": [],
   "source": [
    "params_grid = {\"max_features\": [4,5,6,7,8,9,10],\n",
    "              \"min_samples_split\": [2,3,10]}"
   ]
  },
  {
   "cell_type": "code",
   "execution_count": 157,
   "id": "cc62074c",
   "metadata": {},
   "outputs": [],
   "source": [
    "grid_search = GridSearchCV(rnd_tuned, params_grid, n_jobs=-1, cv=5)"
   ]
  },
  {
   "cell_type": "code",
   "execution_count": 158,
   "id": "767950f1",
   "metadata": {},
   "outputs": [
    {
     "name": "stderr",
     "output_type": "stream",
     "text": [
      "c:\\users\\arnav anand\\appdata\\local\\programs\\python\\python36\\lib\\site-packages\\sklearn\\model_selection\\_search.py:925: UserWarning: One or more of the test scores are non-finite: [0.62437793 0.62381474 0.62428005 0.62169587 0.62083592 0.62245746\n",
      " 0.61897426 0.6185634  0.618369   0.61259429 0.61286194 0.61503224\n",
      " 0.61094375 0.61362332 0.61228685        nan        nan        nan\n",
      "        nan        nan        nan]\n",
      "  category=UserWarning\n"
     ]
    },
    {
     "data": {
      "text/plain": [
       "GridSearchCV(cv=5,\n",
       "             estimator=RandomForestRegressor(max_features=5,\n",
       "                                             min_samples_split=3, n_jobs=-1),\n",
       "             n_jobs=-1,\n",
       "             param_grid={'max_features': [4, 5, 6, 7, 8, 9, 10],\n",
       "                         'min_samples_split': [2, 3, 10]})"
      ]
     },
     "execution_count": 158,
     "metadata": {},
     "output_type": "execute_result"
    }
   ],
   "source": [
    "grid_search.fit(X_train, y_train)"
   ]
  },
  {
   "cell_type": "code",
   "execution_count": 159,
   "id": "2fadef7e",
   "metadata": {},
   "outputs": [
    {
     "data": {
      "text/plain": [
       "{'max_features': 4, 'min_samples_split': 2}"
      ]
     },
     "execution_count": 159,
     "metadata": {},
     "output_type": "execute_result"
    }
   ],
   "source": [
    "grid_search.best_params_"
   ]
  },
  {
   "cell_type": "markdown",
   "id": "2e594373",
   "metadata": {},
   "source": [
    "# Q1- Views about the problem statement?\n",
    "   - **Context and Company Background:** TechWorks Consulting, a company specializing in IT talent recruitment, and highlights its unique approach to matching skilled IT professionals with job opportunities.\n",
    "   - **Data Description:** The Dataset conatins information about colleges, cities, roles, previous experience, and salary. This information will be used to train and test the predictive model.\n",
    "   - **Regression Task:** The primary objective is to perform a regression task, where the aim is to predict a continuous variable, specifically the salary of newly hired employees.\n",
    "   - **Role of Statistics:** The role of statistics is to build and check the accuracy of the model.\n",
    "   - **Data Preprocessing:** Data Preprocessing is most important task as it involves tasks like handling missing values, outliers, categorical variables, normalization, and feature selection."
   ]
  },
  {
   "cell_type": "markdown",
   "id": "b7840004",
   "metadata": {},
   "source": [
    "# Q2- What will be your approach to solving this task?"
   ]
  },
  {
   "cell_type": "markdown",
   "id": "a5e6cf9f",
   "metadata": {},
   "source": [
    "### Systematic Approach will be  :\n",
    "   - **Data Understanding:**\n",
    "  - Begin by thoroughly understanding the provided dataset, including its structure, columns, and the meaning of each variable. Gain insights into the data's distribution, summary statistics, and potential outliers.\n",
    "  \n",
    "  - **Data Preprocessing:**\n",
    "  - Handle Missing Values: Identify and address missing data by imputation or removal, ensuring that data is complete.\n",
    "  - Outlier Detection and Treatment: Detect and handle outliers in the dataset, which could impact the model's accuracy.\n",
    "  - Convert Categorical Data: Transform categorical variables (e.g., \"College\" and \"City\") into numerical format.\n",
    "  - Normalize Data: Normalize numerical features to bring them to a common scale to avoid any feature dominating the model.\n",
    "  - Feature Selection: Use statistical techniques such as Lasso, Ridge, or correlation analysis to select the most relevant features for salary prediction.\n",
    "  \n",
    "- **Model Selection:**\n",
    "  - Choose different regression models (e.g., Linear Regression, Multi Linear Regression, Ridge and lasso, decision Tree) to build and evaluate the accuracy of predictive models.\n",
    "- **Model Training and Evaluation:**\n",
    "  - Split the dataset into training and testing sets to train the models and assess their performance.\n",
    "  - Use appropriate evaluation metrics like Mean Squared Error (MSE), R-squared to measure the model's accuracy.\n",
    "- **Model Comparison:**\n",
    "  - Compare the performance of different models and select the one with the best accuracy.\n"
   ]
  },
  {
   "cell_type": "markdown",
   "id": "4c71c710",
   "metadata": {},
   "source": [
    "# Q3- What were the available ML model options you had to perform this task?\n",
    "   ### The available ML model options you had to perform this task are :\n",
    "   - Multi-Linear Regression: In this regression more than one predictor variables are used to predict the response    variable.\n",
    "   * Decision Tree Regressor: Decision Tree is a decision-making tool that uses a flowchart-like tree structure or is a model of decisions and all of their possible results, including outcomes, input costs, and utility.\n",
    "   * Random Forest Regressor: Random Forest Regression is a versatile machine-learning technique for predicting numerical values. It combines the predictions of multiple decision trees to reduce overfitting and improve accuracy.\n",
    "   * XGBoost Regressor: XGBoost is a powerful approach for building supervised regression models.\n",
    "   * Ridge Regressor: Ridge regression is a model-tuning method that is used to analyze any data that suffers from multicollinearity. It is a statistical regularization technique\n",
    "   * Lasso Regressor: The Lasso Regression, a regression method based on Least Absolute Shrinkage and Selection Operator is an important technique in regression analysis for selecting the variables and regularization.\n",
    "   * Gradient Boosting Machine: Gradient boosting is a machine learning ensemble technique that combines the predictions of multiple weak learners, typically decision trees, sequentially."
   ]
  },
  {
   "cell_type": "markdown",
   "id": "de907b47",
   "metadata": {},
   "source": [
    "# Q4- Which model’s performance is best and what could be the possible reason for that?\n",
    "### r2_score of\n",
    "- Multi-Linear Regression: 0.5343159981702308\n",
    "- Decision Tree Regressor: 0.5927831611924914\n",
    "- Random Forest Regressor: 0.6326923737826373\n",
    "- XGBoost Regressor: 0.6319614132723841\n",
    "- Ridge Regressor: 0.4958925604139547\n",
    "- Lasso Regressor: 0.4966365316641802\n",
    "- Gradient Boosting Machine: 0.6254768212048424\n",
    "\n",
    "### r2_score: It measures the goodness of fit of the model to the observed data, indicating how well the model's predictions match the actual data points.\n",
    "\n",
    "### Since the r2_score of Random Forest Regressor model is high ie.  0.6326923737826373 so we can say that Random Forest Regressor model's performance is best."
   ]
  },
  {
   "cell_type": "markdown",
   "id": "350d9505",
   "metadata": {},
   "source": [
    "# Q5- What steps can you take to improve this selected model’s performance even further?\n",
    "  - In order to improve machine learning model, parameter tuning (to find the optimum value for each parameter) is used. Tuning here means a change in the parameter value\n",
    "  - Tuning model hyperparameters can enhance the performance of the model. \n",
    "  - Consider removing or reducing the importance of less informative features to improve the model's efficiency and potentially its performance.\n",
    "  \n",
    "  - **Further Improvement:** Consider additional techniques for model improvement, such as feature engineering, hyperparameter tuning, and ensemble methods."
   ]
  },
  {
   "cell_type": "markdown",
   "id": "f6f5b187",
   "metadata": {},
   "source": [
    "# Conclusion about using the model:\n",
    "- Here we used Regression Model instead of Classification Model because our Dependent Variable is continuous so classification method is not applicable."
   ]
  }
 ],
 "metadata": {
  "kernelspec": {
   "display_name": "Python 3",
   "language": "python",
   "name": "python3"
  },
  "language_info": {
   "codemirror_mode": {
    "name": "ipython",
    "version": 3
   },
   "file_extension": ".py",
   "mimetype": "text/x-python",
   "name": "python",
   "nbconvert_exporter": "python",
   "pygments_lexer": "ipython3",
   "version": "3.6.8"
  }
 },
 "nbformat": 4,
 "nbformat_minor": 5
}
